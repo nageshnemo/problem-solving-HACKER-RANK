{
 "cells": [
  {
   "cell_type": "code",
   "execution_count": 37,
   "metadata": {},
   "outputs": [
    {
     "name": "stdout",
     "output_type": "stream",
     "text": [
      "[4, 9, 7, 12, 10]\n",
      "10\n"
     ]
    }
   ],
   "source": [
    "n1 = 4\n",
    "n2 = 5\n",
    "list1 = [4]\n",
    "j = 0 \n",
    "k = 1\n",
    "\n",
    "for i in range(0,n1//2,1):\n",
    "    list1.append(list1[j] +5) \n",
    "    list1.append(list1[k] -2)\n",
    "    j=j+2\n",
    "    k=k+2\n",
    "\n",
    "print(list1)\n",
    "\n",
    "print(list1[n2-1])"
   ]
  },
  {
   "cell_type": "code",
   "execution_count": null,
   "metadata": {},
   "outputs": [],
   "source": []
  },
  {
   "cell_type": "code",
   "execution_count": 20,
   "metadata": {},
   "outputs": [
    {
     "name": "stdout",
     "output_type": "stream",
     "text": [
      "2\n"
     ]
    }
   ],
   "source": [
    "print (5//2)"
   ]
  },
  {
   "cell_type": "code",
   "execution_count": 22,
   "metadata": {},
   "outputs": [
    {
     "name": "stdout",
     "output_type": "stream",
     "text": [
      "0\n",
      "1\n",
      "2\n",
      "3\n"
     ]
    }
   ],
   "source": [
    "for i in range(4):\n",
    "    print(i)"
   ]
  },
  {
   "cell_type": "code",
   "execution_count": 39,
   "metadata": {},
   "outputs": [
    {
     "name": "stdout",
     "output_type": "stream",
     "text": [
      "10\n"
     ]
    }
   ],
   "source": [
    "a = 4\n",
    "N = 5\n",
    "\n",
    "term = a\n",
    "\n",
    "for i in range(2,N+1):\n",
    "    if i % 2 == 0:\n",
    "        term = term +5\n",
    "        \n",
    "    else:\n",
    "        term = term -2 \n",
    "        \n",
    "print(term)"
   ]
  },
  {
   "cell_type": "code",
   "execution_count": 46,
   "metadata": {},
   "outputs": [
    {
     "name": "stdout",
     "output_type": "stream",
     "text": [
      "[1, 2, 1, 3, 2, 5, 3, 7, 5, 11, 8]\n"
     ]
    }
   ],
   "source": [
    "# question of prime and fibbonacci\n",
    "# 1,2,1,3,2,5,3,7,5,11,8\n",
    "\n",
    "N = 11\n",
    "prifib = [1,2,1]\n",
    "j = 3\n",
    "for i in range(4,N+1):\n",
    "    if i % 2 == 0:\n",
    "        while(j!=0):\n",
    "            count = 0\n",
    "            for i in range(1,j+1,1):\n",
    "                if j % i == 0:\n",
    "                    count+=1\n",
    "                    \n",
    "            if count ==2:\n",
    "                    prifib.append(j)\n",
    "                    j+=1\n",
    "                    break\n",
    "            else:\n",
    "                j+=1\n",
    "        \n",
    "    else:\n",
    "        prifib.append(prifib[i-3]+prifib[i-5])\n",
    "        \n",
    "print(prifib)"
   ]
  },
  {
   "cell_type": "code",
   "execution_count": 47,
   "metadata": {},
   "outputs": [],
   "source": [
    "# geomwtric series question\n"
   ]
  },
  {
   "cell_type": "code",
   "execution_count": 49,
   "metadata": {},
   "outputs": [
    {
     "name": "stdout",
     "output_type": "stream",
     "text": [
      "[1, 1, 3, 4, 9, 16, 27, 64]\n",
      "64\n"
     ]
    }
   ],
   "source": [
    "n = 8\n",
    "a1 = 3\n",
    "a2 = 4\n",
    "# this is the geometric series question of 3 power and 4 power\n",
    "\n",
    "\n",
    "list1 = []\n",
    "count = 0\n",
    "for i in range(1,n+1):\n",
    "    if i % 2 == 0:\n",
    "        list1.append(a2**count)\n",
    "        count+=1\n",
    "    else:\n",
    "        list1.append(a1**count)\n",
    "        \n",
    "print(list1)\n",
    "\n",
    "\n",
    "print(list1[n-1])"
   ]
  },
  {
   "cell_type": "code",
   "execution_count": 50,
   "metadata": {},
   "outputs": [
    {
     "name": "stdout",
     "output_type": "stream",
     "text": [
      "[0, 0, 6, 7, 12, 14, 18, 21]\n"
     ]
    }
   ],
   "source": [
    "# series of table of two nos\n",
    "\n",
    "\n",
    "\n",
    "n = 8\n",
    "a1 = 6\n",
    "a2 = 7\n",
    "\n",
    "list1 = [0,0]\n",
    "count = 1\n",
    "for i in range(3,n+1):\n",
    "    if i % 2 == 0:\n",
    "        list1.append(a2*count)\n",
    "        count+=1\n",
    "    else:\n",
    "        list1.append(a1*count)\n",
    "        \n",
    "print(list1)\n",
    "\n"
   ]
  },
  {
   "cell_type": "code",
   "execution_count": 1,
   "metadata": {},
   "outputs": [
    {
     "name": "stdout",
     "output_type": "stream",
     "text": [
      "[1, 1, 2, 3, 4, 9, 8, 27]\n",
      "27\n"
     ]
    }
   ],
   "source": [
    "# series of 2 power and 3 power\n",
    "\n",
    "n = 8\n",
    "a1 = 2\n",
    "a2 = 3\n",
    "\n",
    "list1 = []\n",
    "count = 0\n",
    "for i in range(1,n+1):\n",
    "    if i % 2 == 0:\n",
    "        list1.append(a2**count)\n",
    "        count+=1\n",
    "    else:\n",
    "        list1.append(a1**count)\n",
    "        \n",
    "print(list1)\n",
    "\n",
    "\n",
    "print(list1[n-1])"
   ]
  },
  {
   "cell_type": "code",
   "execution_count": 1,
   "metadata": {},
   "outputs": [],
   "source": [
    "# in this series of question i completed all the question which comes under tcs mixed series and try to solve\n",
    "\n",
    "# 1st is the mixed series of fibonacci and prime \n",
    "# 2nd is geometric series of 2 no like 3 and 4\n",
    "# 3rd is the series of tablkes of 2 no is 6 and 7\n",
    "# 4th is the series of even and odd series\n",
    "\n",
    "# this is all the pattern of all the tcs question so we can do this\n",
    "\n",
    "\n",
    "# thats all from todays side\n",
    "# okay\n"
   ]
  },
  {
   "cell_type": "code",
   "execution_count": 4,
   "metadata": {},
   "outputs": [
    {
     "name": "stdout",
     "output_type": "stream",
     "text": [
      "14\n",
      "17\n"
     ]
    }
   ],
   "source": [
    "N = int(input())\n",
    "list1 = [1,2,1]\n",
    "j = 3\n",
    "\n",
    "for i in range(4,N+1,1):\n",
    "    if i % 2 == 0:\n",
    "        while(j!=0):\n",
    "            count = 0\n",
    "            for k in range(1,j+1,1):\n",
    "                if j % k == 0:\n",
    "                    count+=1\n",
    "\n",
    "            if count == 2:\n",
    "                list1.append(j)\n",
    "                j+=1\n",
    "                break\n",
    "            else:\n",
    "                j+=1\n",
    "\n",
    "    else:\n",
    "        list1.append(list1[i-3]+list1[i-5])     \n",
    "\n",
    "print(list1[N-1])"
   ]
  },
  {
   "cell_type": "code",
   "execution_count": 7,
   "metadata": {},
   "outputs": [
    {
     "name": "stdout",
     "output_type": "stream",
     "text": [
      "lcm is  12\n"
     ]
    }
   ],
   "source": [
    "# lcm of two nos \n",
    "a = 3\n",
    "b = 6\n",
    "\n",
    "for i in range(max(a,b)+1,a*b+1):\n",
    "    if i % a ==0  and i % b == 0:\n",
    "        print(\"lcm is \",i)\n",
    "        break"
   ]
  },
  {
   "cell_type": "code",
   "execution_count": 20,
   "metadata": {},
   "outputs": [
    {
     "name": "stdout",
     "output_type": "stream",
     "text": [
      "hcf is  1\n"
     ]
    }
   ],
   "source": [
    "# hcf of two nos\n",
    "\n",
    "a = 6\n",
    "b = 13\n",
    "\n",
    "for j in range(min(a,b)-1,0,-1):\n",
    "    if a % j == 0 and b % j == 0:\n",
    "        print(\"hcf is \",j)\n",
    "        break"
   ]
  },
  {
   "cell_type": "markdown",
   "metadata": {},
   "source": [
    "# decimal to binary and binary to decimal\n",
    "# decimal to octal and binary to octal"
   ]
  },
  {
   "cell_type": "code",
   "execution_count": 6,
   "metadata": {},
   "outputs": [
    {
     "name": "stdout",
     "output_type": "stream",
     "text": [
      "the decimal value of binary no 1001 is : 8\n",
      "the octal value of binary no 1001 is : 513\n"
     ]
    }
   ],
   "source": [
    "# binary to decimal:\n",
    "\n",
    "\n",
    "binary = 1000\n",
    "\n",
    "dec = 0\n",
    "base = 1\n",
    "\n",
    "\n",
    "while (binary !=0):\n",
    "    rem = binary % 10 \n",
    "    dec = dec + rem * base\n",
    "    base = base * 2\n",
    "    binary = binary //10\n",
    "    \n",
    "print(\"the decimal value of binary no 1001 is :\",dec)\n",
    "\n",
    "\n",
    "\n",
    "\n",
    "\n",
    "\n",
    "# binary to octal \n",
    "binary = 1001\n",
    "oct1 = 0\n",
    "base = 1 \n",
    "while (binary !=0):\n",
    "    rem = binary % 10 \n",
    "    oct1 = oct1 + rem * base\n",
    "    base = base * 8\n",
    "    binary = binary //10\n",
    "    \n",
    "print(\"the octal value of binary no 1001 is :\",oct1)\n"
   ]
  },
  {
   "cell_type": "code",
   "execution_count": 9,
   "metadata": {},
   "outputs": [
    {
     "name": "stdout",
     "output_type": "stream",
     "text": [
      "1100\n",
      "310\n"
     ]
    }
   ],
   "source": [
    "# decimal to binary:\n",
    "# 8 = 1001\n",
    "\n",
    "\n",
    "dec = 12\n",
    "binary = 0\n",
    "base = 1 \n",
    "\n",
    "\n",
    "while(dec!=0):\n",
    "    rem = dec % 2\n",
    "    binary = binary + rem * base\n",
    "    base = base * 10 \n",
    "    dec = dec // 2\n",
    "    \n",
    "print(binary)\n",
    "\n",
    "\n",
    "\n",
    "\n",
    "# decimal to octal \n",
    "\n",
    "dec = 200\n",
    "oct1 = 0\n",
    "base = 1 \n",
    "while(dec!=0):\n",
    "    rem = dec % 8\n",
    "    oct1  = oct1 + rem * base\n",
    "    base = base * 10 \n",
    "    dec = dec // 8\n",
    "    \n",
    "print(oct1)\n",
    "\n",
    "\n",
    "# octal to decimal\n"
   ]
  },
  {
   "cell_type": "code",
   "execution_count": 5,
   "metadata": {},
   "outputs": [
    {
     "data": {
      "text/plain": [
       "1"
      ]
     },
     "execution_count": 5,
     "metadata": {},
     "output_type": "execute_result"
    }
   ],
   "source": [
    "1 % 2"
   ]
  },
  {
   "cell_type": "code",
   "execution_count": null,
   "metadata": {},
   "outputs": [],
   "source": []
  }
 ],
 "metadata": {
  "kernelspec": {
   "display_name": "Python 3",
   "language": "python",
   "name": "python3"
  },
  "language_info": {
   "codemirror_mode": {
    "name": "ipython",
    "version": 3
   },
   "file_extension": ".py",
   "mimetype": "text/x-python",
   "name": "python",
   "nbconvert_exporter": "python",
   "pygments_lexer": "ipython3",
   "version": "3.7.2"
  }
 },
 "nbformat": 4,
 "nbformat_minor": 2
}
