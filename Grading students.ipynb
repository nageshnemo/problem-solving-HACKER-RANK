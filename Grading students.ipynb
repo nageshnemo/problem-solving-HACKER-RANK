{
 "cells": [
  {
   "cell_type": "code",
   "execution_count": 4,
   "metadata": {},
   "outputs": [
    {
     "name": "stdout",
     "output_type": "stream",
     "text": [
      "30\n",
      "0\n",
      "16\n",
      "55\n",
      "42\n",
      "50\n",
      "22\n",
      "70\n",
      "12\n",
      "27\n",
      "34\n",
      "24\n",
      "95\n",
      "16\n",
      "32\n",
      "22\n",
      "52\n",
      "95\n"
     ]
    }
   ],
   "source": [
    "def gradingstudents():\n",
    "    list1 = [86,\n",
    "30,\n",
    "0,\n",
    "16,\n",
    "51,\n",
    "53,\n",
    "42,\n",
    "48,\n",
    "22,\n",
    "69,\n",
    "12,\n",
    "27,\n",
    "34,\n",
    "24,\n",
    "95,\n",
    "16,\n",
    "32,\n",
    "22,\n",
    "52,\n",
    "56,\n",
    "71,\n",
    "95]\n",
    "    \n",
    "    for i in list1:\n",
    "        if i<38:\n",
    "            print(i)\n",
    "        \n",
    "        elif i%5==0:\n",
    "            print(i)\n",
    "            \n",
    "        else:\n",
    "            temp =  i\n",
    "            while temp % 5 != 0:\n",
    "                temp+=1\n",
    "            if temp - i <3:\n",
    "                i = temp\n",
    "                print(i)\n",
    "            elif temp -i == 3:\n",
    "                print(i)\n",
    "            elif i<38:\n",
    "                i = 33\n",
    "                print(i)\n",
    "\n",
    "\n",
    "\n",
    "gradingstudents()"
   ]
  },
  {
   "cell_type": "code",
   "execution_count": 13,
   "metadata": {},
   "outputs": [
    {
     "data": {
      "text/plain": [
       "3"
      ]
     },
     "execution_count": 13,
     "metadata": {},
     "output_type": "execute_result"
    }
   ],
   "source": [
    "73%10"
   ]
  },
  {
   "cell_type": "code",
   "execution_count": 16,
   "metadata": {},
   "outputs": [
    {
     "data": {
      "text/plain": [
       "9"
      ]
     },
     "execution_count": 16,
     "metadata": {},
     "output_type": "execute_result"
    }
   ],
   "source": [
    "69 % 10"
   ]
  },
  {
   "cell_type": "code",
   "execution_count": 19,
   "metadata": {},
   "outputs": [
    {
     "name": "stdout",
     "output_type": "stream",
     "text": [
      "40\n"
     ]
    }
   ],
   "source": [
    "n = 37\n",
    "while n % 5 !=0:\n",
    "    n+=1\n",
    "    \n",
    "print(n)"
   ]
  },
  {
   "cell_type": "code",
   "execution_count": 28,
   "metadata": {},
   "outputs": [
    {
     "name": "stdout",
     "output_type": "stream",
     "text": [
      "2\n",
      "45\n",
      "6767\n",
      "87\n"
     ]
    }
   ],
   "source": [
    "list2 = [2,45,6767,87]\n",
    "print('\\n'.join(map(str, list2)))"
   ]
  },
  {
   "cell_type": "code",
   "execution_count": 6,
   "metadata": {},
   "outputs": [
    {
     "data": {
      "text/plain": [
       "False"
      ]
     },
     "execution_count": 6,
     "metadata": {},
     "output_type": "execute_result"
    }
   ],
   "source": [
    "37>38"
   ]
  },
  {
   "cell_type": "code",
   "execution_count": 9,
   "metadata": {},
   "outputs": [
    {
     "name": "stdout",
     "output_type": "stream",
     "text": [
      "33\n"
     ]
    }
   ],
   "source": [
    "if 32<38:\n",
    "    print(33)"
   ]
  },
  {
   "cell_type": "code",
   "execution_count": 1,
   "metadata": {},
   "outputs": [
    {
     "ename": "SyntaxError",
     "evalue": "invalid syntax (<ipython-input-1-aa16b8c65f33>, line 1)",
     "output_type": "error",
     "traceback": [
      "\u001b[1;36m  File \u001b[1;32m\"<ipython-input-1-aa16b8c65f33>\"\u001b[1;36m, line \u001b[1;32m1\u001b[0m\n\u001b[1;33m    static int[] solve(int[] grades)\u001b[0m\n\u001b[1;37m             ^\u001b[0m\n\u001b[1;31mSyntaxError\u001b[0m\u001b[1;31m:\u001b[0m invalid syntax\n"
     ]
    }
   ],
   "source": [
    "static int[] solve(int[] grades)\n",
    "        {            \n",
    "            int[] res = new int[grades.Length];\n",
    "            for (int i = 0; i < grades.Length; i++)\n",
    "            {\n",
    "                if (grades[i] % 5 > 2 && !(grades[i] < 38))              \n",
    "                    res[i] = grades[i] + (5-grades[i]%5);                               \n",
    "                else               \n",
    "                    res[i] = grades[i];\n",
    "               \n",
    "            }\n",
    "            return res;\n",
    "        }"
   ]
  },
  {
   "cell_type": "code",
   "execution_count": 5,
   "metadata": {},
   "outputs": [
    {
     "ename": "SyntaxError",
     "evalue": "invalid syntax (<ipython-input-5-08a4eea3db70>, line 4)",
     "output_type": "error",
     "traceback": [
      "\u001b[1;36m  File \u001b[1;32m\"<ipython-input-5-08a4eea3db70>\"\u001b[1;36m, line \u001b[1;32m4\u001b[0m\n\u001b[1;33m    int main()\u001b[0m\n\u001b[1;37m           ^\u001b[0m\n\u001b[1;31mSyntaxError\u001b[0m\u001b[1;31m:\u001b[0m invalid syntax\n"
     ]
    }
   ],
   "source": [
    "list2 = [47,56,68]\n",
    "\n",
    "\n",
    "int main() \n",
    "{\n",
    "    int n,temp;\n",
    "    cin>>temp;\n",
    "    while(cin>>n)\n",
    "    {\n",
    "        if(n<38)\n",
    "            cout<<n<<endl;\n",
    "        else if(n%5 >= 3)\n",
    "            cout<<n+ (5-n%5)<<endl;\n",
    "        else\n",
    "            cout<<n<<endl;\n",
    "\n",
    "    }\n",
    "    return 0;\n",
    "}\n",
    "\n",
    "73\n",
    "\n",
    "75 + 5 -3 77"
   ]
  },
  {
   "cell_type": "code",
   "execution_count": 15,
   "metadata": {},
   "outputs": [
    {
     "name": "stdout",
     "output_type": "stream",
     "text": [
      "51\n",
      "51\n",
      "53\n",
      "55\n"
     ]
    }
   ],
   "source": [
    " list1 = [51,53]\n",
    "    \n",
    "    \n",
    "for i in list1:\n",
    "    if i<38:\n",
    "        print(i)\n",
    "        \n",
    "    elif i%5==0:\n",
    "        print(i)\n",
    "            \n",
    "    else:\n",
    "        temp =  i\n",
    "        while temp % 5 != 0:\n",
    "            temp+=1\n",
    "        if temp - i <3:\n",
    "            i = temp\n",
    "            print(i)\n",
    "        elif temp -i >3:\n",
    "            print(i)\n",
    "        elif temp - i == 3:\n",
    "            print(i)\n",
    "\n",
    "\n"
   ]
  },
  {
   "cell_type": "code",
   "execution_count": null,
   "metadata": {},
   "outputs": [],
   "source": []
  }
 ],
 "metadata": {
  "kernelspec": {
   "display_name": "Python 3",
   "language": "python",
   "name": "python3"
  },
  "language_info": {
   "codemirror_mode": {
    "name": "ipython",
    "version": 3
   },
   "file_extension": ".py",
   "mimetype": "text/x-python",
   "name": "python",
   "nbconvert_exporter": "python",
   "pygments_lexer": "ipython3",
   "version": "3.7.2"
  }
 },
 "nbformat": 4,
 "nbformat_minor": 2
}
