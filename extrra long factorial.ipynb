{
 "cells": [
  {
   "cell_type": "code",
   "execution_count": 14,
   "metadata": {},
   "outputs": [
    {
     "name": "stdout",
     "output_type": "stream",
     "text": [
      "2\n"
     ]
    }
   ],
   "source": [
    "def fact(n):\n",
    "    sum = 1\n",
    "    for i in range(n,0,-1):\n",
    "        sum = sum * i\n",
    "\n",
    "    print(sum)\n",
    "    \n",
    "    \n",
    "fact(2)"
   ]
  },
  {
   "cell_type": "code",
   "execution_count": 10,
   "metadata": {},
   "outputs": [
    {
     "name": "stdout",
     "output_type": "stream",
     "text": [
      "12\n",
      "0\n"
     ]
    }
   ],
   "source": [
    "# Complete the extraLongFactorials function below.\n",
    "def extraLongFactorials(n):\n",
    "    x = n\n",
    "    sum = 1\n",
    "    for i in range(x,0,-1):\n",
    "        sum = sum * x\n",
    "\n",
    "    print(sum)\n",
    "if __name__ == '__main__':\n",
    "    n = int(input())\n",
    "\n",
    "    extraLongFactorials(n)\n"
   ]
  },
  {
   "cell_type": "code",
   "execution_count": null,
   "metadata": {},
   "outputs": [],
   "source": []
  }
 ],
 "metadata": {
  "kernelspec": {
   "display_name": "Python 3",
   "language": "python",
   "name": "python3"
  },
  "language_info": {
   "codemirror_mode": {
    "name": "ipython",
    "version": 3
   },
   "file_extension": ".py",
   "mimetype": "text/x-python",
   "name": "python",
   "nbconvert_exporter": "python",
   "pygments_lexer": "ipython3",
   "version": "3.7.2"
  }
 },
 "nbformat": 4,
 "nbformat_minor": 2
}
