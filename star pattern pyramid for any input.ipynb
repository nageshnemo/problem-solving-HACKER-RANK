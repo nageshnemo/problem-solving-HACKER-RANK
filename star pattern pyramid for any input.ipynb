{
 "cells": [
  {
   "cell_type": "code",
   "execution_count": 14,
   "metadata": {},
   "outputs": [
    {
     "name": "stdout",
     "output_type": "stream",
     "text": [
      "10\n",
      "         1         \n",
      "        121        \n",
      "       12321       \n",
      "      1234321      \n",
      "     123454321     \n",
      "    12345654321    \n",
      "   1234567654321   \n",
      "  123456787654321  \n",
      " 12345678987654321 \n",
      "12345678910987654321\n"
     ]
    }
   ],
   "source": [
    "n = int(input())\n",
    "for i in range(1,n+1):\n",
    "    x=0\n",
    "    for j in range(1,n * 2):\n",
    "        if j >= (n+1)-i and j <= (n-1)+i:\n",
    "            if j <=n:\n",
    "                x+=1\n",
    "            else:\n",
    "                x-=1\n",
    "            print(x,end = \"\")\n",
    "        else:\n",
    "            print(\" \",end = \"\")\n",
    "            \n",
    "    print()"
   ]
  },
  {
   "cell_type": "code",
   "execution_count": 4,
   "metadata": {},
   "outputs": [
    {
     "name": "stdout",
     "output_type": "stream",
     "text": [
      "5\n",
      "1\n",
      "22\n",
      "333\n",
      "4444\n",
      "55555\n"
     ]
    }
   ],
   "source": [
    "n = int(input())\n",
    "for i in range(1,n+1):\n",
    "    for j in range(1,n+1):\n",
    "        if j >=:\n",
    "            print(i,end = \"\")\n",
    "        \n",
    "    print()"
   ]
  },
  {
   "cell_type": "code",
   "execution_count": null,
   "metadata": {},
   "outputs": [],
   "source": []
  }
 ],
 "metadata": {
  "kernelspec": {
   "display_name": "Python 3",
   "language": "python",
   "name": "python3"
  },
  "language_info": {
   "codemirror_mode": {
    "name": "ipython",
    "version": 3
   },
   "file_extension": ".py",
   "mimetype": "text/x-python",
   "name": "python",
   "nbconvert_exporter": "python",
   "pygments_lexer": "ipython3",
   "version": "3.7.2"
  }
 },
 "nbformat": 4,
 "nbformat_minor": 2
}
