{
 "cells": [
  {
   "cell_type": "code",
   "execution_count": 16,
   "metadata": {},
   "outputs": [
    {
     "name": "stdout",
     "output_type": "stream",
     "text": [
      "{10: 1, 2: 1, 345: 2, 343: 1, 3: 1, 32: 1, 22: 2, 4: 1}\n",
      "10 1\n",
      "2 1\n",
      "343 1\n",
      "3 1\n",
      "32 1\n",
      "4 1\n",
      "yes 2\n",
      "yes 3\n",
      "yes 4\n",
      "yes 10\n",
      "yes 22\n",
      "yes 32\n",
      "yes 343\n",
      "yes 345\n"
     ]
    }
   ],
   "source": [
    "ar1 = [10,2,345,343,345,3,32,22,22,4]\n",
    "ar2 = sorted(ar1)\n",
    "dict1 ={}\n",
    "\n",
    "for i in ar1:\n",
    "    if i in dict1:\n",
    "        dict1[i]+=1\n",
    "        \n",
    "    else:\n",
    "        dict1[i] = 1\n",
    "        \n",
    "        \n",
    "    \n",
    "print(dict1)    \n",
    "\n",
    "for i,j in dict1.items():\n",
    "    if j == 1:\n",
    "        print(i,j)\n",
    "\n",
    "\n",
    "\n",
    "for i in range(len(ar2)):\n",
    "    count=1\n",
    "    for j in range(i+1,len(ar2)):\n",
    "        if ar2[i] == ar2[j]:\n",
    "            count+=1\n",
    "            \n",
    "    if count == 1:\n",
    "        print(\"yes\",ar2[i])\n",
    "        "
   ]
  },
  {
   "cell_type": "code",
   "execution_count": 8,
   "metadata": {},
   "outputs": [
    {
     "name": "stdout",
     "output_type": "stream",
     "text": [
      "10 0\n",
      "2 0\n",
      "sorry  345 occurs  1 times\n",
      "343 0\n",
      "345 0\n",
      "3 0\n",
      "32 0\n",
      "sorry  22 occurs  1 times\n",
      "22 0\n",
      "4 0\n"
     ]
    }
   ],
   "source": [
    "for i in range(len(ar1)):\n",
    "    count=0\n",
    "    for j in range(i+1,len(ar1)):\n",
    "        if ar1[i] == ar1[j]:\n",
    "            count+=1\n",
    "    if count == 0:\n",
    "        print(ar1[i],count)\n",
    "        \n",
    "    else:\n",
    "        print(\"sorry \",ar1[i],\"occurs \",count,\"times\")"
   ]
  },
  {
   "cell_type": "code",
   "execution_count": 7,
   "metadata": {},
   "outputs": [
    {
     "name": "stdout",
     "output_type": "stream",
     "text": [
      "% 0 % 1% 0 % 2% 0 % 3% 0 % 4% 0 % 5\n",
      "% 1 % 2% 1 % 3% 1 % 4% 1 % 5\n",
      "% 2 % 3% 2 % 4% 2 % 5\n",
      "% 3 % 4% 3 % 5\n",
      "% 4 % 5\n",
      "\n"
     ]
    }
   ],
   "source": [
    "ar1= [1,2,3,4,5,6]\n",
    "for i in range(len(ar1)):\n",
    "    for j in range(i+1,len(ar1)):\n",
    "        print(\"%\",i,\"%\",j,end=\"\")\n",
    "    print()"
   ]
  },
  {
   "cell_type": "code",
   "execution_count": 26,
   "metadata": {},
   "outputs": [
    {
     "name": "stdout",
     "output_type": "stream",
     "text": [
      "[2, 3, 4, 10, 22, 22, 32, 343, 345, 345]\n",
      "2\n",
      "3\n",
      "4\n",
      "10\n",
      "22\n",
      "22\n",
      "32\n",
      "343\n",
      "345\n",
      "345\n"
     ]
    }
   ],
   "source": [
    "ar1 = [10,2,345,343,345,3,32,22,22,4]\n",
    "ar2 = sorted(ar1)\n",
    "print(ar2)\n",
    "for i in range(len(ar2)):\n",
    "    count=1\n",
    "    for j in range(i+1,len(ar2)):\n",
    "        if ar2[i] == ar2[j]:\n",
    "            count+=1\n",
    "    if count>=1:\n",
    "        print(ar2[i])\n",
    "        j = j + count\n",
    "            "
   ]
  },
  {
   "cell_type": "code",
   "execution_count": null,
   "metadata": {},
   "outputs": [],
   "source": []
  }
 ],
 "metadata": {
  "kernelspec": {
   "display_name": "Python 3",
   "language": "python",
   "name": "python3"
  },
  "language_info": {
   "codemirror_mode": {
    "name": "ipython",
    "version": 3
   },
   "file_extension": ".py",
   "mimetype": "text/x-python",
   "name": "python",
   "nbconvert_exporter": "python",
   "pygments_lexer": "ipython3",
   "version": "3.7.2"
  }
 },
 "nbformat": 4,
 "nbformat_minor": 2
}
