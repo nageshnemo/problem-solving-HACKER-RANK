{
 "cells": [
  {
   "cell_type": "code",
   "execution_count": 1,
   "metadata": {},
   "outputs": [
    {
     "name": "stdout",
     "output_type": "stream",
     "text": [
      "2\n",
      "hacker\n",
      "rank\n",
      "hce akr\n",
      "rn ak\n"
     ]
    }
   ],
   "source": [
    "# Enter your code here. Read input from STDIN. Print output to STDOUT\n",
    "n = int(input())\n",
    "list1 = []\n",
    "for i in range((n)):\n",
    "    list1.append(input())\n",
    "\n",
    "\n",
    "for i in list1:\n",
    "    odd = \"\"\n",
    "    even = \"\"\n",
    "    for num in range(len(i)):\n",
    "        if num % 2 == 0:\n",
    "            even = even + i[num]\n",
    "        else:\n",
    "            odd = odd + i[num]\n",
    "    print(even+\" \"+odd)\n"
   ]
  },
  {
   "cell_type": "markdown",
   "metadata": {},
   "source": [
    "Today we're expanding our knowledge of Strings and combining it with what we've already learned about loops. Check out the Tutorial tab for learning materials and an instructional video!\n",
    "\n",
    "Task \n",
    "Given a string, , of length  that is indexed from  to , print its even-indexed and odd-indexed characters as space-separated strings on a single line (see the Sample below for more detail).\n",
    "\n",
    "Note:  is considered to be an even index.\n",
    "\n",
    "Input Format\n",
    "\n",
    "The first line contains an integer,  (the number of test cases). \n",
    "Each line  of the  subsequent lines contain a String, ."
   ]
  },
  {
   "cell_type": "markdown",
   "metadata": {},
   "source": []
  }
 ],
 "metadata": {
  "kernelspec": {
   "display_name": "Python 3",
   "language": "python",
   "name": "python3"
  },
  "language_info": {
   "codemirror_mode": {
    "name": "ipython",
    "version": 3
   },
   "file_extension": ".py",
   "mimetype": "text/x-python",
   "name": "python",
   "nbconvert_exporter": "python",
   "pygments_lexer": "ipython3",
   "version": "3.7.2"
  }
 },
 "nbformat": 4,
 "nbformat_minor": 2
}
