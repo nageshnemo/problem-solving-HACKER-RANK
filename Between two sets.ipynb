{
 "cells": [
  {
   "cell_type": "code",
   "execution_count": 13,
   "metadata": {},
   "outputs": [
    {
     "name": "stdout",
     "output_type": "stream",
     "text": [
      "[4, 8, 16]\n"
     ]
    }
   ],
   "source": [
    "a = [2,4]\n",
    "b = [16,32,96]\n",
    "max1 = max(a)\n",
    "min1 = min(b)\n",
    "len1 = len(a) + len(b)\n",
    "list1 = []\n",
    "for i in range(max1,min1+1,1):\n",
    "    count = 0\n",
    "    for j in a:\n",
    "        if i % j == 0:\n",
    "            count+=1\n",
    "    for k in b:\n",
    "        if k % i == 0:\n",
    "            count+=1\n",
    "    if count == len1:\n",
    "        list1.append(i)\n",
    "print (list1)"
   ]
  },
  {
   "cell_type": "code",
   "execution_count": 6,
   "metadata": {},
   "outputs": [
    {
     "name": "stdout",
     "output_type": "stream",
     "text": [
      "2\n",
      "4\n"
     ]
    }
   ],
   "source": [
    "for j in a:\n",
    "    print(j)"
   ]
  },
  {
   "cell_type": "code",
   "execution_count": null,
   "metadata": {},
   "outputs": [],
   "source": [
    "You will be given two arrays of integers and asked to determine all integers that satisfy the following two conditions:\n",
    "\n",
    "The elements of the first array are all factors of the integer being considered\n",
    "The integer being considered is a factor of all elements of the second array\n",
    "These numbers are referred to as being between the two arrays. You must determine how many such numbers exist.\n",
    "\n",
    "For example, given the arrays  and , there are two numbers between them:  and . , ,  and  for the first value. Similarly, ,  and , .\n",
    "\n",
    "Function Description\n",
    "\n",
    "Complete the getTotalX function in the editor below. It should return the number of integers that are betwen the sets.\n",
    "\n",
    "getTotalX has the following parameter(s):\n",
    "\n",
    "a: an array of integers\n",
    "b: an array of integers\n",
    "Input Format\n",
    "\n",
    "The first line contains two space-separated integers,  and , the number of elements in array  and the number of elements in array . \n",
    "The second line contains  distinct space-separated integers describing  where . \n",
    "The third line contains  distinct space-separated integers describing  where .\n",
    "\n",
    "Constraints\n",
    "\n",
    "Output Format\n",
    "\n",
    "Print the number of integers that are considered to be between  and .\n",
    "\n",
    "Sample Input\n",
    "\n",
    "2 3\n",
    "2 4\n",
    "16 32 96\n",
    "Sample Output\n",
    "\n",
    "3\n",
    "Explanation\n",
    "\n",
    "2 and 4 divide evenly into 4, 8, 12 and 16. \n",
    "4, 8 and 16 divide evenly into 16, 32, 96.\n",
    "\n",
    "4, 8 and 16 are the only three numbers for which each element of a is a factor and each is a factor of all elements of b."
   ]
  }
 ],
 "metadata": {
  "kernelspec": {
   "display_name": "Python 3",
   "language": "python",
   "name": "python3"
  },
  "language_info": {
   "codemirror_mode": {
    "name": "ipython",
    "version": 3
   },
   "file_extension": ".py",
   "mimetype": "text/x-python",
   "name": "python",
   "nbconvert_exporter": "python",
   "pygments_lexer": "ipython3",
   "version": "3.7.2"
  }
 },
 "nbformat": 4,
 "nbformat_minor": 2
}
