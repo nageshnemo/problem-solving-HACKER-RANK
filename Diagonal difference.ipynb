{
 "cells": [
  {
   "cell_type": "code",
   "execution_count": 10,
   "metadata": {},
   "outputs": [
    {
     "name": "stdout",
     "output_type": "stream",
     "text": [
      "4\n",
      "-1 1 -7 8\n",
      "-10 -8 -5 -2\n",
      "0 9 7 -1\n",
      "4 4 -2 1\n",
      "-1\n",
      "-7\n",
      "-9\n",
      "-15\n",
      "-2\n",
      "-15\n",
      "-1\n",
      "-14\n",
      "[[-1, 1, -7, 8], [-10, -8, -5, -2], [0, 9, 7, -1], [4, 4, -2, 1]]\n"
     ]
    }
   ],
   "source": [
    "#!/bin/python3\n",
    "\n",
    "import math\n",
    "import os\n",
    "import random\n",
    "import re\n",
    "import sys\n",
    "\n",
    "# Complete the diagonalDifference function below.\n",
    "def diagonalDifference(arr):\n",
    "    d1 = 0\n",
    "    d2 = 0\n",
    "    k = len(arr)-1\n",
    "    l = 0\n",
    "    \n",
    "    for i in range(len(arr)):\n",
    "        d1 = d1 + arr[i][i]\n",
    "        print(d1)\n",
    "        d2 = d2 + arr[i][k]\n",
    "        print(d2)\n",
    "        k = k-1\n",
    "        l = l+1\n",
    "        \n",
    "    return d1 - d2\n",
    "\n",
    "if __name__ == '__main__':\n",
    "    \n",
    "\n",
    "    n = int(input())\n",
    "\n",
    "    arr = []\n",
    "\n",
    "    for _ in range(n):\n",
    "        arr.append(list(map(int, input().rstrip().split())))\n",
    "\n",
    "    result = diagonalDifference(arr)\n",
    "\n",
    "    print(arr)\n"
   ]
  },
  {
   "cell_type": "code",
   "execution_count": 11,
   "metadata": {},
   "outputs": [
    {
     "name": "stdout",
     "output_type": "stream",
     "text": [
      "13\n"
     ]
    }
   ],
   "source": [
    "print (abs(result))"
   ]
  },
  {
   "cell_type": "code",
   "execution_count": null,
   "metadata": {},
   "outputs": [],
   "source": []
  }
 ],
 "metadata": {
  "kernelspec": {
   "display_name": "Python 3",
   "language": "python",
   "name": "python3"
  },
  "language_info": {
   "codemirror_mode": {
    "name": "ipython",
    "version": 3
   },
   "file_extension": ".py",
   "mimetype": "text/x-python",
   "name": "python",
   "nbconvert_exporter": "python",
   "pygments_lexer": "ipython3",
   "version": "3.7.2"
  }
 },
 "nbformat": 4,
 "nbformat_minor": 2
}
