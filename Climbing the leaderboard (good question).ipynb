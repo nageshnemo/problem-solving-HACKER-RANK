{
 "cells": [
  {
   "cell_type": "code",
   "execution_count": 3,
   "metadata": {},
   "outputs": [
    {
     "name": "stdout",
     "output_type": "stream",
     "text": [
      "[100, 50, 40, 20, 10]\n",
      "[5, 25, 50, 120]\n",
      "6\n",
      "4\n",
      "2\n",
      "1\n"
     ]
    }
   ],
   "source": [
    "leaderboard = [100 ,100, 50, 40, 40, 20, 10]\n",
    "alice = [5,25,50,120]\n",
    "\n",
    "\n",
    "orig = []\n",
    "for i in leaderboard:\n",
    "    if i not in orig:\n",
    "        orig.append(i)\n",
    "print (orig)\n",
    "\n",
    "print(alice)\n",
    "for i in range(len(alice)):\n",
    "    count = 1\n",
    "    for j in range(len(orig)):\n",
    "        if alice[i] < orig[j]:\n",
    "            count+=1\n",
    "        elif alice[i] == orig[j]:\n",
    "            break\n",
    "        elif alice[i] > orig[j]:\n",
    "            break\n",
    "        \n",
    "    print(count)"
   ]
  },
  {
   "cell_type": "code",
   "execution_count": 2,
   "metadata": {},
   "outputs": [],
   "source": [
    "str = \"abnbcabnfdnngnga\"\n",
    "\n",
    "dict1 = {}\n",
    "\n",
    "for i in str:\n",
    "    if i in dict1:\n",
    "        dict1[i] +=1\n",
    "    else:\n",
    "        dict1[i] = 1"
   ]
  },
  {
   "cell_type": "code",
   "execution_count": 3,
   "metadata": {},
   "outputs": [
    {
     "name": "stdout",
     "output_type": "stream",
     "text": [
      "{'a': 3, 'b': 3, 'n': 5, 'c': 1, 'f': 1, 'd': 1, 'g': 2}\n"
     ]
    }
   ],
   "source": [
    "print(dict1)"
   ]
  },
  {
   "cell_type": "code",
   "execution_count": 18,
   "metadata": {},
   "outputs": [
    {
     "name": "stdout",
     "output_type": "stream",
     "text": [
      "[100, 90, 80, 75, 60]\n",
      "[100, 90, 90, 80, 75, 60]\n",
      "[50, 65, 77, 90, 102]\n",
      "6\n",
      "5\n",
      "4\n",
      "2\n",
      "1\n"
     ]
    }
   ],
   "source": [
    "leaderboard = [100 ,90 ,90 ,80 ,75, 60]\n",
    "alice = [50 ,65, 77 ,90 ,102]\n",
    "\n",
    "\n",
    "orig = []\n",
    "for i in leaderboard:\n",
    "    if i not in orig:\n",
    "        orig.append(i)\n",
    "print (orig)\n",
    "print(leaderboard)\n",
    "print(alice)\n",
    "for i in range(len(alice)):\n",
    "    count = 1\n",
    "    for j in range(len(orig)):\n",
    "        if alice[i] < orig[j]:\n",
    "            count+=1\n",
    "        elif alice[i] == orig[j]:\n",
    "            break\n",
    "        \n",
    "    print(count)"
   ]
  },
  {
   "cell_type": "code",
   "execution_count": 19,
   "metadata": {},
   "outputs": [],
   "source": [
    "str = \"Nagesh kumar singh\"\n",
    "\n",
    "str1 = str.split(\" \")"
   ]
  },
  {
   "cell_type": "code",
   "execution_count": 20,
   "metadata": {},
   "outputs": [
    {
     "name": "stdout",
     "output_type": "stream",
     "text": [
      "['Nagesh', 'kumar', 'singh']\n"
     ]
    }
   ],
   "source": [
    "print(str1)"
   ]
  },
  {
   "cell_type": "code",
   "execution_count": 23,
   "metadata": {},
   "outputs": [
    {
     "name": "stdout",
     "output_type": "stream",
     "text": [
      "['singh', 'kumar', 'Nagesh']\n"
     ]
    }
   ],
   "source": [
    "str2 = str1[::-1]\n",
    "\n",
    "\n",
    "print(str2)"
   ]
  },
  {
   "cell_type": "code",
   "execution_count": 27,
   "metadata": {},
   "outputs": [
    {
     "data": {
      "text/plain": [
       "'singh\\nkumar\\nNagesh'"
      ]
     },
     "execution_count": 27,
     "metadata": {},
     "output_type": "execute_result"
    }
   ],
   "source": [
    "\"\\n\".join(str2)"
   ]
  },
  {
   "cell_type": "code",
   "execution_count": 38,
   "metadata": {},
   "outputs": [
    {
     "name": "stdout",
     "output_type": "stream",
     "text": [
      "[3, 3, 5, 7, 6]\n"
     ]
    },
    {
     "data": {
      "text/plain": [
       "'3 3 5 7 6'"
      ]
     },
     "execution_count": 38,
     "metadata": {},
     "output_type": "execute_result"
    }
   ],
   "source": [
    "result = ['3','3','5','7','6']\n",
    "result1 = list(map(int,result))\n",
    "print(result1)\n",
    "\n",
    "\n",
    "\" \".join(( result))"
   ]
  },
  {
   "cell_type": "code",
   "execution_count": null,
   "metadata": {},
   "outputs": [],
   "source": []
  }
 ],
 "metadata": {
  "kernelspec": {
   "display_name": "Python 3",
   "language": "python",
   "name": "python3"
  },
  "language_info": {
   "codemirror_mode": {
    "name": "ipython",
    "version": 3
   },
   "file_extension": ".py",
   "mimetype": "text/x-python",
   "name": "python",
   "nbconvert_exporter": "python",
   "pygments_lexer": "ipython3",
   "version": "3.7.2"
  }
 },
 "nbformat": 4,
 "nbformat_minor": 2
}
