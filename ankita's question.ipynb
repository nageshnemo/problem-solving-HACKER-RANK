{
 "cells": [
  {
   "cell_type": "code",
   "execution_count": null,
   "metadata": {},
   "outputs": [
    {
     "name": "stdout",
     "output_type": "stream",
     "text": [
      "3\n",
      "78\n",
      "nagesh\n",
      "[]\n"
     ]
    }
   ],
   "source": [
    "def main():\n",
    "    T = int(input())\n",
    "    while(T):\n",
    "        sum = 0\n",
    "        N = int(input())\n",
    "        strg = input().split(' ')\n",
    "        strg.pop()\n",
    "        strg =[int(i) for i in strg]\n",
    "        print(strg)\n",
    "\n",
    "main()"
   ]
  },
  {
   "cell_type": "code",
   "execution_count": null,
   "metadata": {},
   "outputs": [],
   "source": [
    "if (strg[i]+strg[i+2] == s and y>strg[i+2]):\n",
    "                print(1,s, x, y, strg[i], strg[i+2])\n",
    "                i += 1\n",
    "                break"
   ]
  },
  {
   "cell_type": "code",
   "execution_count": null,
   "metadata": {},
   "outputs": [],
   "source": []
  }
 ],
 "metadata": {
  "kernelspec": {
   "display_name": "Python 3",
   "language": "python",
   "name": "python3"
  },
  "language_info": {
   "codemirror_mode": {
    "name": "ipython",
    "version": 3
   },
   "file_extension": ".py",
   "mimetype": "text/x-python",
   "name": "python",
   "nbconvert_exporter": "python",
   "pygments_lexer": "ipython3",
   "version": "3.7.2"
  }
 },
 "nbformat": 4,
 "nbformat_minor": 2
}
