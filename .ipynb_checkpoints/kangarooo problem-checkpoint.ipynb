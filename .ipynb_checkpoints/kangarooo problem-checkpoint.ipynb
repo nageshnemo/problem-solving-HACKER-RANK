{
 "cells": [
  {
   "cell_type": "markdown",
   "metadata": {},
   "source": [
    "You are choreographing a circus show with various animals. For one act, you are given two kangaroos on a number line ready to jump in the positive direction (i.e, toward positive infinity).\n",
    "\n",
    "The first kangaroo starts at location  and moves at a rate of  meters per jump.\n",
    "The second kangaroo starts at location  and moves at a rate of  meters per jump.\n",
    "You have to figure out a way to get both kangaroos at the same location at the same time as part of the show. If it is possible, return YES, otherwise return NO.\n",
    "\n",
    "For example, kangaroo  starts at  with a jump distance  and kangaroo  starts at  with a jump distance of . After one jump, they are both at , (, ), so our answer is YES.\n",
    "\n",
    "Function Description\n",
    "\n",
    "Complete the function kangaroo in the editor below. It should return YES if they reach the same position at the same time, or NO if they don't.\n",
    "\n",
    "kangaroo has the following parameter(s):\n",
    "\n",
    "x1, v1: integers, starting position and jump distance for kangaroo 1\n",
    "x2, v2: integers, starting position and jump distance for kangaroo 2\n",
    "Input Format\n",
    "\n",
    "A single line of four space-separated integers denoting the respective values of , , , and .\n",
    "\n",
    "Constraints\n",
    "\n",
    "Output Format\n",
    "\n",
    "Print YES if they can land on the same location at the same time; otherwise, print NO.\n",
    "\n",
    "Note: The two kangaroos must land at the same location after making the same number of jumps."
   ]
  },
  {
   "cell_type": "code",
   "execution_count": 1,
   "metadata": {},
   "outputs": [
    {
     "data": {
      "text/plain": [
       "'NO'"
      ]
     },
     "execution_count": 1,
     "metadata": {},
     "output_type": "execute_result"
    }
   ],
   "source": [
    "x1 = 21\n",
    "v1 = 6\n",
    "x2 = 48\n",
    "v2 =  3\n",
    "\n",
    "#29 50 35 53\n",
    "\n",
    "def kangaroo(x1, v1, x2, v2):\n",
    "    if x1 < x2 and v1 <v2 :\n",
    "        return \"NO\"\n",
    "    elif x1 < x2 and v1 > v2:\n",
    "        while(1):\n",
    "            x1 = x1 + v1\n",
    "            x2 = x2 + v2\n",
    "            if x1 > x2 :\n",
    "                return \"NO\"\n",
    "            elif x1 == x2 :\n",
    "                return \"YES\"\n",
    "    else:\n",
    "        if x1 < x2 and v1 == v2 :\n",
    "            return \"NO\"\n",
    "\n",
    "            \n",
    "            \n",
    "\n",
    "kangaroo(21,6,47,3)"
   ]
  },
  {
   "cell_type": "code",
   "execution_count": null,
   "metadata": {},
   "outputs": [],
   "source": []
  }
 ],
 "metadata": {
  "kernelspec": {
   "display_name": "Python 3",
   "language": "python",
   "name": "python3"
  },
  "language_info": {
   "codemirror_mode": {
    "name": "ipython",
    "version": 3
   },
   "file_extension": ".py",
   "mimetype": "text/x-python",
   "name": "python",
   "nbconvert_exporter": "python",
   "pygments_lexer": "ipython3",
   "version": "3.7.2"
  }
 },
 "nbformat": 4,
 "nbformat_minor": 2
}
