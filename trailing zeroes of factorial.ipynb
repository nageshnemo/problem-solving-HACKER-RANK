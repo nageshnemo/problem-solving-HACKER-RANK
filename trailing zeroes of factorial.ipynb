{
 "cells": [
  {
   "cell_type": "code",
   "execution_count": 6,
   "metadata": {},
   "outputs": [
    {
     "name": "stdout",
     "output_type": "stream",
     "text": [
      "93326215443944152681699238856266700490715968264381621468592963895217599993229915608941463976156518286253697920827223758251185210916864000000000000000000000000\n",
      "1\n"
     ]
    }
   ],
   "source": [
    "no = 100\n",
    "fact = 1\n",
    "while(no!=0):\n",
    "    fact = fact * no\n",
    "    no-=1\n",
    "    \n",
    "print(fact)\n",
    "\n",
    "\n",
    "trail_zero = 0\n",
    "while(fact):\n",
    "    rem = fac% 10\n",
    "    if fact % 10 == 0:\n",
    "        trail_zero = trail_zero + 1\n",
    "        fact = fact /10\n",
    "    else:\n",
    "        break\n",
    "        \n",
    "print(trail_zero)"
   ]
  },
  {
   "cell_type": "code",
   "execution_count": null,
   "metadata": {},
   "outputs": [],
   "source": []
  }
 ],
 "metadata": {
  "kernelspec": {
   "display_name": "Python 3",
   "language": "python",
   "name": "python3"
  },
  "language_info": {
   "codemirror_mode": {
    "name": "ipython",
    "version": 3
   },
   "file_extension": ".py",
   "mimetype": "text/x-python",
   "name": "python",
   "nbconvert_exporter": "python",
   "pygments_lexer": "ipython3",
   "version": "3.7.2"
  }
 },
 "nbformat": 4,
 "nbformat_minor": 2
}
