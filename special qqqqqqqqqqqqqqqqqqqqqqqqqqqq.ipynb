{
 "cells": [
  {
   "cell_type": "code",
   "execution_count": 3,
   "metadata": {},
   "outputs": [
    {
     "name": "stdout",
     "output_type": "stream",
     "text": [
      "{{}{}{{}}}\n",
      "BALANCED\n"
     ]
    }
   ],
   "source": [
    "# special question\n",
    "\n",
    "str1 = input()\n",
    "\n",
    "\n",
    "count = 0 \n",
    "for i in str1:\n",
    "    if i == \"(\" or i == \"[\" or i == \"{\":\n",
    "        count = count + 1\n",
    "        \n",
    "    if i == \")\" or i == \"]\" or i == \"}\":\n",
    "        count = count - 1\n",
    "        \n",
    "if count == 0:\n",
    "    print(\"BALANCED\")\n",
    "else:\n",
    "    print(\"UNBALANCED\")"
   ]
  },
  {
   "cell_type": "code",
   "execution_count": 6,
   "metadata": {},
   "outputs": [
    {
     "name": "stdout",
     "output_type": "stream",
     "text": [
      "{{}{}}\n",
      "BALANCED\n"
     ]
    }
   ],
   "source": [
    "# special question\n",
    "\n",
    "str1 = input()\n",
    "\n",
    "\n",
    "count = 0 \n",
    "for i in str1:\n",
    "    if i == \"(\" or i == \"[\" or i == \"{\":\n",
    "        count = count + 1\n",
    "        \n",
    "    if i == \")\" or i == \"]\" or i == \"}\":\n",
    "        count = count - 1\n",
    "        \n",
    "if count == 0:\n",
    "    print(\"BALANCED\")\n",
    "else:\n",
    "    print(\"UNBALANCED\")"
   ]
  },
  {
   "cell_type": "code",
   "execution_count": 7,
   "metadata": {},
   "outputs": [
    {
     "name": "stdout",
     "output_type": "stream",
     "text": [
      "[]\n",
      "BALANCED\n"
     ]
    }
   ],
   "source": [
    "# special question\n",
    "\n",
    "str1 = input()\n",
    "\n",
    "\n",
    "count = 0 \n",
    "for i in str1:\n",
    "    if i == \"(\" or i == \"[\" or i == \"{\":\n",
    "        count = count + 1\n",
    "        \n",
    "    if i == \")\" or i == \"]\" or i == \"}\":\n",
    "        count = count - 1\n",
    "        \n",
    "if count == 0:\n",
    "    print(\"BALANCED\")\n",
    "else:\n",
    "    print(\"UNBALANCED\")"
   ]
  },
  {
   "cell_type": "code",
   "execution_count": 8,
   "metadata": {},
   "outputs": [
    {
     "name": "stdout",
     "output_type": "stream",
     "text": [
      "{)(}\n",
      "BALANCED\n"
     ]
    }
   ],
   "source": [
    "# special question\n",
    "\n",
    "str1 = input()\n",
    "\n",
    "\n",
    "count = 0 \n",
    "for i in str1:\n",
    "    if i == \"(\" or i == \"[\" or i == \"{\":\n",
    "        count = count + 1\n",
    "        \n",
    "    if i == \")\" or i == \"]\" or i == \"}\":\n",
    "        count = count - 1\n",
    "        \n",
    "if count == 0:\n",
    "    print(\"BALANCED\")\n",
    "else:\n",
    "    print(\"UNBALANCED\")"
   ]
  },
  {
   "cell_type": "code",
   "execution_count": null,
   "metadata": {},
   "outputs": [],
   "source": []
  }
 ],
 "metadata": {
  "kernelspec": {
   "display_name": "Python 3",
   "language": "python",
   "name": "python3"
  },
  "language_info": {
   "codemirror_mode": {
    "name": "ipython",
    "version": 3
   },
   "file_extension": ".py",
   "mimetype": "text/x-python",
   "name": "python",
   "nbconvert_exporter": "python",
   "pygments_lexer": "ipython3",
   "version": "3.7.2"
  }
 },
 "nbformat": 4,
 "nbformat_minor": 2
}
