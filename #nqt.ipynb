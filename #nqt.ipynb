{
 "cells": [
  {
   "cell_type": "code",
   "execution_count": 4,
   "metadata": {},
   "outputs": [
    {
     "name": "stdout",
     "output_type": "stream",
     "text": [
      "case\n",
      "case is a keyword\n",
      "defer\n",
      "defer is a keyword\n",
      "hrey\n"
     ]
    }
   ],
   "source": [
    "keyword = [\"break\",\"case\",\"continue\",\"default\",\"defer\"]\n",
    "\n",
    "count = 0\n",
    "while(1):\n",
    "    inp = input()\n",
    "    count +=1\n",
    "    if count == 3:\n",
    "        break\n",
    "    else:\n",
    "        if inp in keyword:\n",
    "            print(inp,\"is a keyword\")\n",
    "        else:\n",
    "            print(inp,\"is not a keyword\")\n",
    "    "
   ]
  },
  {
   "cell_type": "code",
   "execution_count": 5,
   "metadata": {},
   "outputs": [
    {
     "name": "stdout",
     "output_type": "stream",
     "text": [
      "hdf\n",
      "not a keyword\n"
     ]
    }
   ],
   "source": [
    "keyword = [\"break\",\"case\",\"continue\",\"default\",\"defer\"]\n",
    "inp = input()\n",
    "\n",
    "if inp in keyword:\n",
    "    print(\"keyword\")\n",
    "else:\n",
    "    print(\"not a keyword\")"
   ]
  },
  {
   "cell_type": "code",
   "execution_count": null,
   "metadata": {},
   "outputs": [],
   "source": []
  }
 ],
 "metadata": {
  "kernelspec": {
   "display_name": "Python 3",
   "language": "python",
   "name": "python3"
  },
  "language_info": {
   "codemirror_mode": {
    "name": "ipython",
    "version": 3
   },
   "file_extension": ".py",
   "mimetype": "text/x-python",
   "name": "python",
   "nbconvert_exporter": "python",
   "pygments_lexer": "ipython3",
   "version": "3.7.2"
  }
 },
 "nbformat": 4,
 "nbformat_minor": 2
}
