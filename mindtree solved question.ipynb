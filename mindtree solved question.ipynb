{
 "cells": [
  {
   "cell_type": "code",
   "execution_count": 1,
   "metadata": {},
   "outputs": [],
   "source": [
    "# 8 question in a row of mindtree"
   ]
  },
  {
   "cell_type": "code",
   "execution_count": 26,
   "metadata": {},
   "outputs": [
    {
     "name": "stdout",
     "output_type": "stream",
     "text": [
      "1\n",
      "4*3\n",
      "2*3*4\n",
      "9*8*7*6\n",
      "5*6*7*8*9\n"
     ]
    }
   ],
   "source": [
    "# i will do all the question in given time limit\n",
    "# what is the time limit\n",
    "\n",
    "N = 5\n",
    "k = 1\n",
    "l = -1\n",
    "for i in range(1,N+1):\n",
    "    l+=2\n",
    "    if i % 2 == 0:\n",
    "        m = k+i\n",
    "\n",
    "    for j in range(1,N*2):\n",
    "        if j <=l:\n",
    "            if j % 2 == 0:\n",
    "                print(\"*\",end=\"\")\n",
    "            else:\n",
    "                if i % 2 == 0:\n",
    "                    print(m,end=\"\")\n",
    "                    m-=1\n",
    "                    \n",
    "                else:\n",
    "                    print(k,end =\"\")\n",
    "                    k+=1\n",
    "        \n",
    "    print()"
   ]
  },
  {
   "cell_type": "code",
   "execution_count": 42,
   "metadata": {},
   "outputs": [
    {
     "name": "stdout",
     "output_type": "stream",
     "text": [
      "4\n",
      "55\n",
      "666\n",
      "7777\n",
      "7777\n",
      "666\n",
      "55\n",
      "4\n"
     ]
    }
   ],
   "source": [
    "\"\"\"\n",
    "\n",
    "for n = 4 s = 4\n",
    "3\n",
    "44\n",
    "555\n",
    "6666\n",
    "6666\n",
    "555\n",
    "44\n",
    "3\n",
    "\"\"\"\n",
    "n = 4\n",
    "s = 4\n",
    "\n",
    "for i in range(1,n+1):\n",
    "    for j in range(1,n+1):\n",
    "        if j<=i:\n",
    "            print(s,end = \"\")\n",
    "        \n",
    "    print()\n",
    "    s+=1\n",
    "    \n",
    "s-=1\n",
    "for i in range(1,n+1):\n",
    "    for j in range(1,n+1):\n",
    "        if j<=n+1-i:\n",
    "            print(s,end = \"\")\n",
    "        \n",
    "    print()\n",
    "    s-=1"
   ]
  },
  {
   "cell_type": "code",
   "execution_count": 47,
   "metadata": {},
   "outputs": [
    {
     "name": "stdout",
     "output_type": "stream",
     "text": [
      "1\n",
      "22\n",
      "333\n",
      "4444\n",
      "55555\n",
      "44444\n",
      "3333\n",
      "222\n",
      "11\n",
      "0\n"
     ]
    }
   ],
   "source": [
    "n = 5\n",
    "s = 1\n",
    "for i in range(1,n+1):\n",
    "    for j in range(1,n+1):\n",
    "        if j<=i:\n",
    "            print(s,end = \"\")\n",
    "        \n",
    "    print()\n",
    "    s+=1\n",
    "s-=1    \n",
    "for i in range(1,n+1):\n",
    "    s-=1\n",
    "    for j in range(1,n+1):\n",
    "        if j<=n+1-i:\n",
    "            \n",
    "            print(s,end = \"\")\n",
    "        \n",
    "    print()"
   ]
  },
  {
   "cell_type": "code",
   "execution_count": null,
   "metadata": {},
   "outputs": [],
   "source": []
  }
 ],
 "metadata": {
  "kernelspec": {
   "display_name": "Python 3",
   "language": "python",
   "name": "python3"
  },
  "language_info": {
   "codemirror_mode": {
    "name": "ipython",
    "version": 3
   },
   "file_extension": ".py",
   "mimetype": "text/x-python",
   "name": "python",
   "nbconvert_exporter": "python",
   "pygments_lexer": "ipython3",
   "version": "3.7.2"
  }
 },
 "nbformat": 4,
 "nbformat_minor": 2
}
