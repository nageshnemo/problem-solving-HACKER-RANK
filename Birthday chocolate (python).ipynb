{
 "cells": [
  {
   "cell_type": "code",
   "execution_count": 2,
   "metadata": {},
   "outputs": [
    {
     "name": "stdout",
     "output_type": "stream",
     "text": [
      "0\n",
      "1\n",
      "2\n",
      "3\n",
      "4\n",
      "5\n"
     ]
    }
   ],
   "source": [
    "x = 5\n",
    "for i in range(x+1):\n",
    "    print(i)"
   ]
  },
  {
   "cell_type": "markdown",
   "metadata": {},
   "source": [
    "Lily has a chocolate bar that she wants to share it with Ron for his birthday. Each of the squares has an integer on it. She decides to share a contiguous segment of the bar selected such that the length of the segment matches Ron's birth month and the sum of the integers on the squares is equal to his birth day. You must determine how many ways she can divide the chocolate.\n",
    "\n",
    "Consider the chocolate bar as an array of squares, . She wants to find segments summing to Ron's birth day,  with a length equalling his birth month, . In this case, there are two segments meeting her criteria:  and .\n",
    "\n",
    "Function Description\n",
    "\n",
    "Complete the birthday function in the editor below. It should return an integer denoting the number of ways Lily can divide the chocolate bar.\n",
    "\n",
    "birthday has the following parameter(s):\n",
    "\n",
    "s: an array of integers, the numbers on each of the squares of chocolate\n",
    "d: an integer, Ron's birth day\n",
    "m: an integer, Ron's birth month\n",
    "Input Format\n",
    "\n",
    "The first line contains an integer , the number of squares in the chocolate bar. \n",
    "The second line contains  space-separated integers , the numbers on the chocolate squares where . \n",
    "The third line contains two space-separated integers,  and , Ron's birth day and his birth month.\n",
    "\n",
    "Constraints\n",
    "\n",
    ", where ()\n",
    "Output Format\n",
    "\n",
    "Print an integer denoting the total number of ways that Lily can portion her chocolate bar to share with Ron.\n",
    "\n",
    "Sample Input 0\n",
    "\n",
    "5\n",
    "1 2 1 3 2\n",
    "3 2\n",
    "Sample Output 0\n",
    "\n",
    "2"
   ]
  },
  {
   "cell_type": "code",
   "execution_count": null,
   "metadata": {},
   "outputs": [],
   "source": []
  },
  {
   "cell_type": "code",
   "execution_count": null,
   "metadata": {},
   "outputs": [],
   "source": []
  },
  {
   "cell_type": "code",
   "execution_count": null,
   "metadata": {},
   "outputs": [],
   "source": []
  },
  {
   "cell_type": "code",
   "execution_count": 3,
   "metadata": {},
   "outputs": [
    {
     "name": "stdout",
     "output_type": "stream",
     "text": [
      "3\n",
      "4\n",
      "5\n",
      "6\n",
      "[[0, 0, 0], [0, 0, 1], [0, 0, 2], [0, 0, 3], [0, 0, 4], [0, 0, 5], [0, 1, 0], [0, 1, 1], [0, 1, 2], [0, 1, 3], [0, 1, 4], [0, 2, 0], [0, 2, 1], [0, 2, 2], [0, 2, 3], [0, 2, 5], [0, 3, 0], [0, 3, 1], [0, 3, 2], [0, 3, 4], [0, 3, 5], [0, 4, 0], [0, 4, 1], [0, 4, 3], [0, 4, 4], [0, 4, 5], [1, 0, 0], [1, 0, 1], [1, 0, 2], [1, 0, 3], [1, 0, 4], [1, 1, 0], [1, 1, 1], [1, 1, 2], [1, 1, 3], [1, 1, 5], [1, 2, 0], [1, 2, 1], [1, 2, 2], [1, 2, 4], [1, 2, 5], [1, 3, 0], [1, 3, 1], [1, 3, 3], [1, 3, 4], [1, 3, 5], [1, 4, 0], [1, 4, 2], [1, 4, 3], [1, 4, 4], [1, 4, 5], [2, 0, 0], [2, 0, 1], [2, 0, 2], [2, 0, 3], [2, 0, 5], [2, 1, 0], [2, 1, 1], [2, 1, 2], [2, 1, 4], [2, 1, 5], [2, 2, 0], [2, 2, 1], [2, 2, 3], [2, 2, 4], [2, 2, 5], [2, 3, 0], [2, 3, 2], [2, 3, 3], [2, 3, 4], [2, 3, 5], [2, 4, 1], [2, 4, 2], [2, 4, 3], [2, 4, 4], [2, 4, 5], [3, 0, 0], [3, 0, 1], [3, 0, 2], [3, 0, 4], [3, 0, 5], [3, 1, 0], [3, 1, 1], [3, 1, 3], [3, 1, 4], [3, 1, 5], [3, 2, 0], [3, 2, 2], [3, 2, 3], [3, 2, 4], [3, 2, 5], [3, 3, 1], [3, 3, 2], [3, 3, 3], [3, 3, 4], [3, 3, 5], [3, 4, 0], [3, 4, 1], [3, 4, 2], [3, 4, 3], [3, 4, 4], [3, 4, 5]]\n"
     ]
    }
   ],
   "source": [
    "if __name__ == '__main__':\n",
    "    x = int(input())\n",
    "    y = int(input())\n",
    "    z = int(input())\n",
    "    n = int(input())\n",
    "\n",
    "print ([[i,j,k] for i in range( x + 1) for j in range( y + 1) for k in range( z + 1 ) if ((i+j+k)!=n )])\n"
   ]
  },
  {
   "cell_type": "code",
   "execution_count": 32,
   "metadata": {},
   "outputs": [
    {
     "name": "stdout",
     "output_type": "stream",
     "text": [
      "[[1, 2], [2, 1], [1, 3], [3, 2], [2]]\n",
      "2\n"
     ]
    }
   ],
   "source": [
    "s = [1,2,1,3,2]\n",
    "d = 3\n",
    "m = 2\n",
    "count = []\n",
    "for i in range(len(s)):\n",
    "    count.append((s[i:i+m]))\n",
    "count1 = 0\n",
    "print(count)\n",
    "for j in count:\n",
    "    sum1 = 0\n",
    "    for y in j:\n",
    "        sum1 = sum1 + y\n",
    "    if sum1 == d:\n",
    "        count1 +=1\n",
    "print(count1)          "
   ]
  },
  {
   "cell_type": "code",
   "execution_count": 20,
   "metadata": {},
   "outputs": [
    {
     "name": "stdout",
     "output_type": "stream",
     "text": [
      "[1, 2]\n",
      "[2, 3]\n",
      "[3, 4]\n",
      "[4, 5]\n",
      "[5, 6]\n",
      "[6]\n"
     ]
    }
   ],
   "source": [
    "for i in range(len(s)):\n",
    "    (s[i:i+m])"
   ]
  },
  {
   "cell_type": "code",
   "execution_count": 26,
   "metadata": {},
   "outputs": [
    {
     "name": "stdout",
     "output_type": "stream",
     "text": [
      "1\n",
      "2\n",
      "2\n",
      "3\n",
      "3\n",
      "4\n",
      "4\n",
      "5\n",
      "5\n",
      "6\n",
      "6\n"
     ]
    }
   ],
   "source": [
    "x = 0\n",
    "sum1 = 0\n",
    "for j in count:\n",
    "    for y in j :\n",
    "        sum1 = sum1 + y"
   ]
  },
  {
   "cell_type": "code",
   "execution_count": null,
   "metadata": {},
   "outputs": [],
   "source": []
  }
 ],
 "metadata": {
  "kernelspec": {
   "display_name": "Python 3",
   "language": "python",
   "name": "python3"
  },
  "language_info": {
   "codemirror_mode": {
    "name": "ipython",
    "version": 3
   },
   "file_extension": ".py",
   "mimetype": "text/x-python",
   "name": "python",
   "nbconvert_exporter": "python",
   "pygments_lexer": "ipython3",
   "version": "3.7.2"
  }
 },
 "nbformat": 4,
 "nbformat_minor": 2
}
