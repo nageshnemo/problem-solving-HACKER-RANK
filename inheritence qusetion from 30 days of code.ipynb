{
 "cells": [
  {
   "cell_type": "code",
   "execution_count": 3,
   "metadata": {},
   "outputs": [
    {
     "data": {
      "text/plain": [
       "52"
      ]
     },
     "execution_count": 3,
     "metadata": {},
     "output_type": "execute_result"
    }
   ],
   "source": [
    "30 + 44 //2"
   ]
  },
  {
   "cell_type": "code",
   "execution_count": 4,
   "metadata": {},
   "outputs": [
    {
     "name": "stdout",
     "output_type": "stream",
     "text": [
      "50\n"
     ]
    }
   ],
   "source": [
    "list1  = [20,30,30,20]\n",
    "\n",
    "print(sum(list1)//2)"
   ]
  },
  {
   "cell_type": "code",
   "execution_count": null,
   "metadata": {},
   "outputs": [],
   "source": [
    "class Person:\n",
    "\tdef __init__(self, firstName, lastName, idNumber):\n",
    "\t\tself.firstName = firstName\n",
    "        self.lastName = lastName\n",
    "\t\tself.idNumber = idNumber\n",
    "\tdef printPerson(self):\n",
    "\t\tprint(\"Name:\", self.lastName + \",\", self.firstName)\n",
    "\t\tprint(\"ID:\", self.idNumber)\n",
    "\n",
    "class Student(Person):\n",
    "    #   Class Constructor\n",
    "    #   \n",
    "\n",
    "    def __init__(self,firstName,lastName,idNumber,scores):\n",
    "        self.scores = scores\n",
    "        Person.__init__(self,firstName,lastName,idNumber)\n",
    "\n",
    "\n",
    "    def calculate(self):\n",
    "\n",
    "        avg = (sum(self.scores))//len(self.scores)\n",
    "        \n",
    "        if avg >=90 and avg <=100:\n",
    "            grade = \"O\"\n",
    "            return grade \n",
    "        \n",
    "        elif avg >= 80 and avg <90:\n",
    "            grade = \"E\"\n",
    "            return grade\n",
    "\n",
    "        elif avg >= 70 and avg <80:\n",
    "            grade = \"A\"\n",
    "            return (grade)\n",
    "\n",
    "        elif avg >= 55 and avg <70:\n",
    "            grade = \"P\"\n",
    "            return (grade)\n",
    "\n",
    "        elif avg >= 40 and avg <55:\n",
    "            grade = \"D\"\n",
    "            return (grade) \n",
    "        else:\n",
    "            grade = \"T\"\n",
    "            return (grade)\n",
    "        \n",
    "    #   Parameters:\n",
    "    #   firstName - A string denoting the Person's first name.\n",
    "    #   lastName - A string denoting the Person's last name.\n",
    "    #   id - An integer denoting the Person's ID number.\n",
    "    #   scores - An array of integers denoting the Person's test scores.\n",
    "    #\n",
    "    # Write your constructor here\n",
    "    \n",
    "\n",
    "    #   Function Name: calculate\n",
    "    #   Return: A character denoting the grade.\n",
    "    #\n",
    "    # Write your function here\n",
    "\n",
    "line = input().split()\n",
    "firstName = line[0]\n",
    "lastName = line[1]\n",
    "idNum = line[2]\n",
    "numScores = int(input()) # not needed for Python\n",
    "scores = list( map(int, input().split()) )\n",
    "s = Student(firstName, lastName, idNum, scores)\n",
    "s.printPerson()"
   ]
  }
 ],
 "metadata": {
  "kernelspec": {
   "display_name": "Python 3",
   "language": "python",
   "name": "python3"
  },
  "language_info": {
   "codemirror_mode": {
    "name": "ipython",
    "version": 3
   },
   "file_extension": ".py",
   "mimetype": "text/x-python",
   "name": "python",
   "nbconvert_exporter": "python",
   "pygments_lexer": "ipython3",
   "version": "3.7.2"
  }
 },
 "nbformat": 4,
 "nbformat_minor": 2
}
