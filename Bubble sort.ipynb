{
 "cells": [
  {
   "cell_type": "code",
   "execution_count": 25,
   "metadata": {},
   "outputs": [
    {
     "name": "stdout",
     "output_type": "stream",
     "text": [
      "9\n",
      "[4, 32, 45, 123, 432, 2, 55, 34, 232, 231]\n",
      "[4, 32, 45, 123, 2, 432, 55, 34, 232, 231]\n",
      "[4, 32, 45, 123, 2, 55, 432, 34, 232, 231]\n",
      "[4, 32, 45, 123, 2, 55, 34, 432, 232, 231]\n",
      "[4, 32, 45, 123, 2, 55, 34, 232, 432, 231]\n",
      "[4, 32, 45, 123, 2, 55, 34, 232, 231, 432]\n",
      "8\n",
      "[4, 32, 45, 2, 123, 55, 34, 232, 231, 432]\n",
      "[4, 32, 45, 2, 55, 123, 34, 232, 231, 432]\n",
      "[4, 32, 45, 2, 55, 34, 123, 232, 231, 432]\n",
      "[4, 32, 45, 2, 55, 34, 123, 231, 232, 432]\n",
      "7\n",
      "[4, 32, 2, 45, 55, 34, 123, 231, 232, 432]\n",
      "[4, 32, 2, 45, 34, 55, 123, 231, 232, 432]\n",
      "6\n",
      "[4, 2, 32, 45, 34, 55, 123, 231, 232, 432]\n",
      "[4, 2, 32, 34, 45, 55, 123, 231, 232, 432]\n",
      "5\n",
      "[2, 4, 32, 34, 45, 55, 123, 231, 232, 432]\n",
      "4\n",
      "3\n",
      "2\n",
      "1\n",
      "*******************************************************************\n",
      "[2, 4, 32, 34, 45, 55, 123, 231, 232, 432]\n"
     ]
    }
   ],
   "source": [
    "arr = [4,45,32,123,432,2,55,34,232,231]\n",
    "\n",
    "\n",
    "# len = 10\n",
    "\n",
    "for num in range(len(arr)-1,0,-1):\n",
    "    print(num)\n",
    "    for i in range(num):\n",
    "        if arr[i] > arr[i+1]:\n",
    "            temp = arr[i]\n",
    "            arr[i] = arr[i+1]\n",
    "            arr[i+1] = temp\n",
    "            print(arr)\n",
    "            \n",
    "print(\"*\"*67)     \n",
    "print(arr)"
   ]
  },
  {
   "cell_type": "code",
   "execution_count": null,
   "metadata": {},
   "outputs": [],
   "source": []
  },
  {
   "cell_type": "code",
   "execution_count": null,
   "metadata": {},
   "outputs": [],
   "source": []
  },
  {
   "cell_type": "code",
   "execution_count": null,
   "metadata": {},
   "outputs": [],
   "source": []
  },
  {
   "cell_type": "code",
   "execution_count": null,
   "metadata": {},
   "outputs": [],
   "source": []
  },
  {
   "cell_type": "code",
   "execution_count": null,
   "metadata": {},
   "outputs": [],
   "source": []
  },
  {
   "cell_type": "code",
   "execution_count": null,
   "metadata": {},
   "outputs": [],
   "source": []
  },
  {
   "cell_type": "code",
   "execution_count": null,
   "metadata": {},
   "outputs": [],
   "source": []
  },
  {
   "cell_type": "code",
   "execution_count": 27,
   "metadata": {},
   "outputs": [
    {
     "name": "stdout",
     "output_type": "stream",
     "text": [
      "1\n",
      "[211, 2111, 4, 545, 7676, 78, 879]\n",
      "[211, 4, 2111, 545, 7676, 78, 879]\n",
      "[211, 4, 545, 2111, 7676, 78, 879]\n",
      "[211, 4, 545, 2111, 78, 7676, 879]\n",
      "[211, 4, 545, 2111, 78, 879, 7676]\n",
      "2\n",
      "[4, 211, 545, 2111, 78, 879, 7676]\n",
      "[4, 211, 545, 78, 2111, 879, 7676]\n",
      "[4, 211, 545, 78, 879, 2111, 7676]\n",
      "3\n",
      "[4, 211, 78, 545, 879, 2111, 7676]\n",
      "4\n",
      "[4, 78, 211, 545, 879, 2111, 7676]\n",
      "5\n"
     ]
    }
   ],
   "source": [
    "arr = [2111,211,4,545,7676,78,879]\n",
    "# len = 7\n",
    "\n",
    "for j in range(1,len(arr)-1,1):  # this runs for 5 times because last wala jo bachega wo apne position pe pahuch hi jayga\n",
    "    print(j)\n",
    "    for i in range(0,len(arr)-j,1): # 0 to 5 then 0 to 4 then 0 to 3 then 0 to 2 then 0 to 1 \n",
    "            if arr[i] > arr[i+1]:\n",
    "                temp = arr[i]\n",
    "                arr[i] = arr[i+1]\n",
    "                arr[i+1] = temp\n",
    "                print(arr)\n"
   ]
  },
  {
   "cell_type": "code",
   "execution_count": null,
   "metadata": {},
   "outputs": [],
   "source": []
  }
 ],
 "metadata": {
  "kernelspec": {
   "display_name": "Python 3",
   "language": "python",
   "name": "python3"
  },
  "language_info": {
   "codemirror_mode": {
    "name": "ipython",
    "version": 3
   },
   "file_extension": ".py",
   "mimetype": "text/x-python",
   "name": "python",
   "nbconvert_exporter": "python",
   "pygments_lexer": "ipython3",
   "version": "3.7.2"
  }
 },
 "nbformat": 4,
 "nbformat_minor": 2
}
