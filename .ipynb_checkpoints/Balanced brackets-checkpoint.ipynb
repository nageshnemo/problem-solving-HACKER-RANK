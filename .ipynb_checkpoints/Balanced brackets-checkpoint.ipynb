{
 "cells": [
  {
   "cell_type": "code",
   "execution_count": 14,
   "metadata": {},
   "outputs": [
    {
     "name": "stdout",
     "output_type": "stream",
     "text": [
      "unbalanced\n"
     ]
    }
   ],
   "source": [
    "def bracket_Check(str1):\n",
    "    stack = []\n",
    "\n",
    "    for i in str1:\n",
    "        if i == \"(\":\n",
    "            stack.append(i)\n",
    "        elif i == \")\":\n",
    "            if len(stack) > 0:\n",
    "                stack.pop()\n",
    "            else:\n",
    "                return(\"unbalanced\")\n",
    "    if len(stack) == 0:\n",
    "        return(\"balanced\")\n",
    "        \n",
    "        \n",
    "str1 = \"((((((((())))))))))))))\"\n",
    "print(bracket_Check(str1))"
   ]
  },
  {
   "cell_type": "code",
   "execution_count": 16,
   "metadata": {},
   "outputs": [
    {
     "name": "stdout",
     "output_type": "stream",
     "text": [
      "balanced\n"
     ]
    }
   ],
   "source": [
    "def Paranthesis_Check(str1):\n",
    "    op = [\"{\",\"(\",\"[\"]\n",
    "    cl = [\"}\",\")\",\"]\"]\n",
    "    \n",
    "    stack = []\n",
    "\n",
    "    for i in str1:\n",
    "        if i in op:\n",
    "            stack.append(i)\n",
    "            \n",
    "        elif i in cl:\n",
    "            pos = cl.index(i)\n",
    "            if len(stack) > 0 and op[pos] == stack[len(stack)-1]:\n",
    "                stack.pop()\n",
    "            else:\n",
    "                return \"unbalanced\"\n",
    "    if len(stack) == 0:\n",
    "        return \"balanced\"\n",
    "\n",
    "        \n",
    "        \n",
    "str1 = \"{{[()]}}\"\n",
    "print(bracket_Check(str1))"
   ]
  },
  {
   "cell_type": "code",
   "execution_count": 19,
   "metadata": {},
   "outputs": [
    {
     "name": "stdout",
     "output_type": "stream",
     "text": [
      "{'0': 3, '1': 1, '2': 1, '4': 2, '3': 3, '8': 2, '6': 1, '5': 1, '9': 1}\n"
     ]
    }
   ],
   "source": [
    "str1 = \"012043043868539\"\n",
    "\n",
    "dict1 = {}\n",
    "\n",
    "for i in str1:\n",
    "    if i in dict1:\n",
    "        dict1[i] +=1\n",
    "    else:\n",
    "        dict1[i] = 1\n",
    "        \n",
    "print(dict1)"
   ]
  },
  {
   "cell_type": "code",
   "execution_count": 20,
   "metadata": {},
   "outputs": [
    {
     "name": "stdout",
     "output_type": "stream",
     "text": [
      "{'a': 3, 'b': 3, 'd': 2}\n"
     ]
    }
   ],
   "source": [
    "str1 = \"abadbabd\"\n",
    "\n",
    "dict1 = {}\n",
    "\n",
    "for i in str1:\n",
    "    if i in dict1:\n",
    "        dict1[i] +=1\n",
    "    else:\n",
    "        dict1[i] = 1\n",
    "        \n",
    "print(dict1)"
   ]
  },
  {
   "cell_type": "code",
   "execution_count": null,
   "metadata": {},
   "outputs": [],
   "source": []
  }
 ],
 "metadata": {
  "kernelspec": {
   "display_name": "Python 3",
   "language": "python",
   "name": "python3"
  },
  "language_info": {
   "codemirror_mode": {
    "name": "ipython",
    "version": 3
   },
   "file_extension": ".py",
   "mimetype": "text/x-python",
   "name": "python",
   "nbconvert_exporter": "python",
   "pygments_lexer": "ipython3",
   "version": "3.7.2"
  }
 },
 "nbformat": 4,
 "nbformat_minor": 2
}
