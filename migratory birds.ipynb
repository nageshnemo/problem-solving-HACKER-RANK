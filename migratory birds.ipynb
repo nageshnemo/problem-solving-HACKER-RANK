{
 "cells": [
  {
   "cell_type": "code",
   "execution_count": 39,
   "metadata": {},
   "outputs": [
    {
     "data": {
      "text/plain": [
       "Counter({1: 2, 2: 2})"
      ]
     },
     "execution_count": 39,
     "metadata": {},
     "output_type": "execute_result"
    }
   ],
   "source": [
    "from collections import Counter\n",
    "l = [1,1,2,2]\n",
    "Counter (l)\n"
   ]
  },
  {
   "cell_type": "code",
   "execution_count": null,
   "metadata": {},
   "outputs": [],
   "source": []
  },
  {
   "cell_type": "code",
   "execution_count": null,
   "metadata": {},
   "outputs": [],
   "source": []
  },
  {
   "cell_type": "code",
   "execution_count": 5,
   "metadata": {},
   "outputs": [
    {
     "name": "stdout",
     "output_type": "stream",
     "text": [
      "[[[...], 1], [[...], 2], [[...], 3], [[...], 4]]\n"
     ]
    }
   ],
   "source": [
    "print(l1)"
   ]
  },
  {
   "cell_type": "code",
   "execution_count": 41,
   "metadata": {},
   "outputs": [
    {
     "name": "stdout",
     "output_type": "stream",
     "text": [
      "{1: 2, 2: 2, 3: 3, 4: 3, 5: 1}\n",
      "[3, 4]\n",
      "3\n"
     ]
    }
   ],
   "source": [
    "l = [1 ,2 ,3 ,4 ,5 ,4 ,3 ,2 ,1 ,3 ,4]\n",
    "dict1 = {}\n",
    "\n",
    "for i in l:\n",
    "    if i in dict1:\n",
    "        dict1[i] +=1\n",
    "    else:\n",
    "        dict1[i] = 1\n",
    "        \n",
    "print (dict1)\n",
    "m = max(dict1.values())\n",
    "l1 = []\n",
    "for i,j in dict1.items():\n",
    "    if j == m:\n",
    "        l1.append(i)\n",
    "print(l1)        \n",
    "print(l1[0])    "
   ]
  },
  {
   "cell_type": "code",
   "execution_count": 22,
   "metadata": {},
   "outputs": [
    {
     "name": "stdout",
     "output_type": "stream",
     "text": [
      "{'s': 1, 'f': 3, 'd': 4, 'j': 2, 'b': 3, 'k': 2, 'v': 2, 'a': 1, 'g': 1, 'i': 1, 'h': 1}\n"
     ]
    }
   ],
   "source": [
    "# checking frequency of each characters in string\n",
    "\n",
    "\n",
    "str = \"sfdjbkjdfbvdfbvdagihk\"\n",
    "d = {}\n",
    "\n",
    "\n",
    "for i in str:\n",
    "    if i in d:\n",
    "        d[i] +=1\n",
    "        \n",
    "    else:\n",
    "        d[i] = 1\n",
    "        \n",
    "print(d)"
   ]
  },
  {
   "cell_type": "code",
   "execution_count": null,
   "metadata": {},
   "outputs": [],
   "source": []
  }
 ],
 "metadata": {
  "kernelspec": {
   "display_name": "Python 3",
   "language": "python",
   "name": "python3"
  },
  "language_info": {
   "codemirror_mode": {
    "name": "ipython",
    "version": 3
   },
   "file_extension": ".py",
   "mimetype": "text/x-python",
   "name": "python",
   "nbconvert_exporter": "python",
   "pygments_lexer": "ipython3",
   "version": "3.7.2"
  }
 },
 "nbformat": 4,
 "nbformat_minor": 2
}
