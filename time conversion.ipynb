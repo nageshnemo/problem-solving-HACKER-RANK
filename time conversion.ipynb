{
 "cells": [
  {
   "cell_type": "code",
   "execution_count": 29,
   "metadata": {},
   "outputs": [
    {
     "ename": "SyntaxError",
     "evalue": "'return' outside function (<ipython-input-29-ada51dd02a27>, line 7)",
     "output_type": "error",
     "traceback": [
      "\u001b[1;36m  File \u001b[1;32m\"<ipython-input-29-ada51dd02a27>\"\u001b[1;36m, line \u001b[1;32m7\u001b[0m\n\u001b[1;33m    return str3\u001b[0m\n\u001b[1;37m    ^\u001b[0m\n\u001b[1;31mSyntaxError\u001b[0m\u001b[1;31m:\u001b[0m 'return' outside function\n"
     ]
    }
   ],
   "source": [
    "time1 = \"06:00:00PM\"\n",
    "\n",
    "if (time1[-2:]) == \"PM\":\n",
    "    time2 = int(time1[:2])\n",
    "    time2 = time2 + 12\n",
    "    str3 =(str(time2) + time1[2:-2:1])\n",
    "    return str3\n",
    "    \n",
    "elif (time1[-2:]) == \"AM\":\n",
    "    if time1[:5]==\"12:00\":\n",
    "        return \"00:00:00\"\n",
    "    else:\n",
    "        str4 =(time1[:-2])\n",
    "        return str4\n",
    "    \n",
    "\n",
    "    "
   ]
  },
  {
   "cell_type": "code",
   "execution_count": 7,
   "metadata": {},
   "outputs": [],
   "source": [
    "time2 = int(time1[:2])"
   ]
  },
  {
   "cell_type": "code",
   "execution_count": 10,
   "metadata": {},
   "outputs": [],
   "source": [
    "time2 = time2 + 12"
   ]
  },
  {
   "cell_type": "code",
   "execution_count": 19,
   "metadata": {},
   "outputs": [
    {
     "name": "stdout",
     "output_type": "stream",
     "text": [
      "19:05:45\n"
     ]
    }
   ],
   "source": [
    "print(str(time2) + time1[2:-2:1])"
   ]
  },
  {
   "cell_type": "code",
   "execution_count": 13,
   "metadata": {},
   "outputs": [
    {
     "ename": "TypeError",
     "evalue": "'str' object does not support item assignment",
     "output_type": "error",
     "traceback": [
      "\u001b[1;31m---------------------------------------------------------------------------\u001b[0m",
      "\u001b[1;31mTypeError\u001b[0m                                 Traceback (most recent call last)",
      "\u001b[1;32m<ipython-input-13-0fdb2fb8fd5a>\u001b[0m in \u001b[0;36m<module>\u001b[1;34m\u001b[0m\n\u001b[1;32m----> 1\u001b[1;33m \u001b[0mtime1\u001b[0m\u001b[1;33m[\u001b[0m\u001b[1;33m:\u001b[0m\u001b[1;36m2\u001b[0m\u001b[1;33m]\u001b[0m \u001b[1;33m=\u001b[0m \u001b[0mstr\u001b[0m\u001b[1;33m(\u001b[0m\u001b[0mtime2\u001b[0m\u001b[1;33m)\u001b[0m\u001b[1;33m\u001b[0m\u001b[1;33m\u001b[0m\u001b[0m\n\u001b[0m",
      "\u001b[1;31mTypeError\u001b[0m: 'str' object does not support item assignment"
     ]
    }
   ],
   "source": [
    "time1[:2] = str(time2)"
   ]
  },
  {
   "cell_type": "code",
   "execution_count": 30,
   "metadata": {},
   "outputs": [],
   "source": [
    "def timeConversion(s):\n",
    "    #\n",
    "    # Write your code here.\n",
    "    if (s[-2:]) == \"PM\":\n",
    "        if s[:2]==\"12\":\n",
    "            if s[2:-2] == \"00:00\":\n",
    "                return \"12:00:00\"\n",
    "            else:\n",
    "                return \"12\" +s[2:-2]\n",
    "        else:\n",
    "            time2 = int(s[:2])\n",
    "            time2 = time2 + 12\n",
    "            str3 =(str(time2) + s[2:-2:1])\n",
    "            return str3\n",
    "    \n",
    "    elif (s[-2:]) == \"AM\":\n",
    "        if s[:2]==\"12\":\n",
    "            if s[2:-2] == \"00:00\":\n",
    "                return \"00:00:00\"\n",
    "            else:\n",
    "                return \"00\"+s[2:-2]\n",
    "\n",
    "        else:\n",
    "            str4 =(s[:-2])\n",
    "            return str4\n",
    "    \n",
    "    else:\n",
    "        pass\n",
    "\n",
    "    \n",
    "    \n",
    "# this is basically a function"
   ]
  },
  {
   "cell_type": "code",
   "execution_count": null,
   "metadata": {},
   "outputs": [],
   "source": []
  }
 ],
 "metadata": {
  "kernelspec": {
   "display_name": "Python 3",
   "language": "python",
   "name": "python3"
  },
  "language_info": {
   "codemirror_mode": {
    "name": "ipython",
    "version": 3
   },
   "file_extension": ".py",
   "mimetype": "text/x-python",
   "name": "python",
   "nbconvert_exporter": "python",
   "pygments_lexer": "ipython3",
   "version": "3.7.2"
  }
 },
 "nbformat": 4,
 "nbformat_minor": 2
}
