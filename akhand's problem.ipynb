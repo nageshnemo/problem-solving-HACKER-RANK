{
 "cells": [
  {
   "cell_type": "code",
   "execution_count": 18,
   "metadata": {},
   "outputs": [
    {
     "name": "stdout",
     "output_type": "stream",
     "text": [
      "1\n",
      "1\n",
      "cat and dog are equal\n"
     ]
    }
   ],
   "source": [
    "str1 = \"catsfhc atsdbgdogfjddofg\"\n",
    "count1 = 0\n",
    "count2 = 0\n",
    "for i in range(len(str1)-2):\n",
    "    if str1[i:i+3:1] == \"cat\":\n",
    "        count1+=1\n",
    "    if str1[i:i+3:1]== \"dog\":\n",
    "        count2+=1\n",
    "print(count1)\n",
    "print(count2)\n",
    "\n",
    "if count1 == count2:\n",
    "    print(\"cat and dog are equal\")\n",
    "    \n",
    "else:\n",
    "    print(\"cat and dogs are not equal\")"
   ]
  },
  {
   "cell_type": "code",
   "execution_count": 5,
   "metadata": {},
   "outputs": [
    {
     "data": {
      "text/plain": [
       "'cat'"
      ]
     },
     "execution_count": 5,
     "metadata": {},
     "output_type": "execute_result"
    }
   ],
   "source": [
    "str1[0:3]"
   ]
  },
  {
   "cell_type": "code",
   "execution_count": null,
   "metadata": {},
   "outputs": [],
   "source": []
  }
 ],
 "metadata": {
  "kernelspec": {
   "display_name": "Python 3",
   "language": "python",
   "name": "python3"
  },
  "language_info": {
   "codemirror_mode": {
    "name": "ipython",
    "version": 3
   },
   "file_extension": ".py",
   "mimetype": "text/x-python",
   "name": "python",
   "nbconvert_exporter": "python",
   "pygments_lexer": "ipython3",
   "version": "3.7.2"
  }
 },
 "nbformat": 4,
 "nbformat_minor": 2
}
