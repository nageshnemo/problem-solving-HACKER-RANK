{
 "cells": [
  {
   "cell_type": "code",
   "execution_count": 5,
   "metadata": {},
   "outputs": [
    {
     "name": "stdout",
     "output_type": "stream",
     "text": [
      "5\n",
      "nagesh\n",
      "is\n",
      "a\n",
      "bad\n",
      "boy\n",
      "['nagesh', 'is', 'a', 'bad', 'boy']\n",
      "a\n",
      "bad\n",
      "boy\n",
      "is\n",
      "nagesh\n"
     ]
    }
   ],
   "source": [
    "# print in alphabetical order or lexographically order of string \n",
    "# conduira online question \n",
    "\n",
    "\n",
    "\n",
    "\n",
    "n = int(input())\n",
    "l1 = []\n",
    "for i in range(n):\n",
    "    l1.append(input())\n",
    "    \n",
    "print(l1)\n",
    "\n",
    "\n",
    "for i in sorted(l1):\n",
    "    print(i)"
   ]
  },
  {
   "cell_type": "code",
   "execution_count": 10,
   "metadata": {},
   "outputs": [
    {
     "name": "stdout",
     "output_type": "stream",
     "text": [
      "lknaoenofanoneonoheihoqoe\n",
      "14\n",
      "11\n",
      "{'l': 1, 'k': 1, 'n': 5, 'a': 2, 'o': 7, 'e': 4, 'f': 1, 'h': 2, 'i': 1, 'q': 1}\n"
     ]
    }
   ],
   "source": [
    "# count no of vowels in string \n",
    "\n",
    "st1 = input()\n",
    "countvowel = 0\n",
    "countconso = 0\n",
    "for i in st1:\n",
    "    if i == \"a\" or i == \"e\" or i == \"i\" or i == \"o\" or i ==\"u\":\n",
    "        countvowel+=1\n",
    "    else:\n",
    "        countconso +=1\n",
    "\n",
    "        \n",
    "print(countvowel)\n",
    "print(countconso)\n",
    "\n",
    "\n",
    "dict1 = {}\n",
    "\n",
    "for i in st1:\n",
    "    if i in dict1:\n",
    "        dict1[i] +=1\n",
    "    else:\n",
    "        dict1[i] = 1\n",
    "        \n",
    "print(dict1)"
   ]
  },
  {
   "cell_type": "code",
   "execution_count": 22,
   "metadata": {},
   "outputs": [
    {
     "name": "stdout",
     "output_type": "stream",
     "text": [
      "65 = A\n",
      "66 = B\n",
      "67 = C\n",
      "68 = D\n",
      "69 = E\n",
      "70 = F\n",
      "71 = G\n",
      "72 = H\n",
      "73 = I\n",
      "74 = J\n",
      "75 = K\n",
      "76 = L\n",
      "77 = M\n",
      "78 = N\n",
      "79 = O\n",
      "80 = P\n",
      "81 = Q\n",
      "82 = R\n",
      "83 = S\n",
      "84 = T\n",
      "85 = U\n",
      "86 = V\n",
      "87 = W\n",
      "88 = X\n",
      "89 = Y\n",
      "90 = Z\n",
      "---------------------------------------------------------------------------------------------------------\n",
      "97 = a\n",
      "98 = b\n",
      "99 = c\n",
      "100 = d\n",
      "101 = e\n",
      "102 = f\n",
      "103 = g\n",
      "104 = h\n",
      "105 = i\n",
      "106 = j\n",
      "107 = k\n",
      "108 = l\n",
      "109 = m\n",
      "110 = n\n",
      "111 = o\n",
      "112 = p\n",
      "113 = q\n",
      "114 = r\n",
      "115 = s\n",
      "116 = t\n",
      "117 = u\n",
      "118 = v\n",
      "119 = w\n",
      "120 = x\n",
      "121 = y\n",
      "122 = z\n"
     ]
    }
   ],
   "source": [
    "for i in range(65,65+26):\n",
    "    print(i ,\"=\",chr(i))\n",
    "print(\"-------\" * 15)    \n",
    "for i in range(97,97+26):\n",
    "    print(i , \"=\",chr(i))"
   ]
  },
  {
   "cell_type": "code",
   "execution_count": null,
   "metadata": {},
   "outputs": [],
   "source": []
  }
 ],
 "metadata": {
  "kernelspec": {
   "display_name": "Python 3",
   "language": "python",
   "name": "python3"
  },
  "language_info": {
   "codemirror_mode": {
    "name": "ipython",
    "version": 3
   },
   "file_extension": ".py",
   "mimetype": "text/x-python",
   "name": "python",
   "nbconvert_exporter": "python",
   "pygments_lexer": "ipython3",
   "version": "3.7.2"
  }
 },
 "nbformat": 4,
 "nbformat_minor": 2
}
