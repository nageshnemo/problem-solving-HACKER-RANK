{
 "cells": [
  {
   "cell_type": "code",
   "execution_count": 4,
   "metadata": {},
   "outputs": [],
   "source": [
    "open_list = [\"[\",\"{\",\"(\"] \n",
    "close_list = [\"]\",\"}\",\")\"]\n",
    "\n",
    "#print(open_list)\n",
    "#print(close_list)\n",
    "\n",
    "\n",
    "def check(mystr):\n",
    "    stack = []\n",
    "    \n",
    "    for i in mystr:\n",
    "        if i in open_list:\n",
    "            stack.append(i)\n",
    "            temp = i\n",
    "            \n",
    "        elif i in close_list:\n",
    "            if temp == \n"
   ]
  },
  {
   "cell_type": "code",
   "execution_count": 5,
   "metadata": {},
   "outputs": [
    {
     "name": "stdout",
     "output_type": "stream",
     "text": [
      "{[]{()}} - Balanced\n",
      "[{}{})(] - Unbalanced\n"
     ]
    }
   ],
   "source": [
    "open_list = [\"[\",\"{\",\"(\"] \n",
    "close_list = [\"]\",\"}\",\")\"] \n",
    "  \n",
    "# Function to check parentheses \n",
    "def check(myStr): \n",
    "    stack = [] \n",
    "    for i in myStr: \n",
    "        if i in open_list: \n",
    "            stack.append(i) \n",
    "        elif i in close_list: \n",
    "            pos = close_list.index(i) \n",
    "            if ((len(stack) > 0) and\n",
    "                (open_list[pos] == stack[len(stack)-1])): \n",
    "                stack.pop() \n",
    "            else: \n",
    "                return \"Unbalanced\"\n",
    "    if len(stack) == 0: \n",
    "        return \"Balanced\"\n",
    "  \n",
    "# Driver code \n",
    "string = \"{[]{()}}\"\n",
    "print(string,\"-\", check(string)) \n",
    "  \n",
    "string = \"[{}{})(]\"\n",
    "print(string,\"-\", check(string)) "
   ]
  },
  {
   "cell_type": "code",
   "execution_count": null,
   "metadata": {},
   "outputs": [],
   "source": []
  }
 ],
 "metadata": {
  "kernelspec": {
   "display_name": "Python 3",
   "language": "python",
   "name": "python3"
  },
  "language_info": {
   "codemirror_mode": {
    "name": "ipython",
    "version": 3
   },
   "file_extension": ".py",
   "mimetype": "text/x-python",
   "name": "python",
   "nbconvert_exporter": "python",
   "pygments_lexer": "ipython3",
   "version": "3.7.2"
  }
 },
 "nbformat": 4,
 "nbformat_minor": 2
}
