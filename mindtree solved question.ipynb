{
 "cells": [
  {
   "cell_type": "code",
   "execution_count": 1,
   "metadata": {},
   "outputs": [],
   "source": [
    "# 8 question in a row of mindtree"
   ]
  },
  {
   "cell_type": "code",
   "execution_count": 26,
   "metadata": {},
   "outputs": [
    {
     "name": "stdout",
     "output_type": "stream",
     "text": [
      "1\n",
      "4*3\n",
      "2*3*4\n",
      "9*8*7*6\n",
      "5*6*7*8*9\n"
     ]
    }
   ],
   "source": [
    "# i will do all the question in given time limit\n",
    "# what is the time limit\n",
    "\n",
    "N = 5\n",
    "k = 1\n",
    "l = -1\n",
    "for i in range(1,N+1):\n",
    "    l+=2\n",
    "    if i % 2 == 0:\n",
    "        m = k+i\n",
    "\n",
    "    for j in range(1,N*2):\n",
    "        if j <=l:\n",
    "            if j % 2 == 0:\n",
    "                print(\"*\",end=\"\")\n",
    "            else:\n",
    "                if i % 2 == 0:\n",
    "                    print(m,end=\"\")\n",
    "                    m-=1\n",
    "                    \n",
    "                else:\n",
    "                    print(k,end =\"\")\n",
    "                    k+=1\n",
    "        \n",
    "    print()"
   ]
  },
  {
   "cell_type": "code",
   "execution_count": 40,
   "metadata": {},
   "outputs": [
    {
     "name": "stdout",
     "output_type": "stream",
     "text": [
      "5\n",
      "66\n",
      "777\n",
      "8888\n",
      "99999\n",
      "101010101010\n",
      "1010101010\n",
      "9999\n",
      "888\n",
      "77\n",
      "6\n",
      "\n"
     ]
    }
   ],
   "source": [
    "\"\"\"\n",
    "\n",
    "for n = 4 s = 4\n",
    "3\n",
    "44\n",
    "555\n",
    "6666\n",
    "6666\n",
    "555\n",
    "44\n",
    "3\n",
    "\"\"\"\n",
    "n = 6\n",
    "s = 5\n",
    "\n",
    "for i in range(1,n+1):\n",
    "    for j in range(1,n+1):\n",
    "        if j<=i:\n",
    "            print(s,end = \"\")\n",
    "        \n",
    "    print()\n",
    "    s+=1\n",
    "    \n",
    "s-=1\n",
    "for i in range(1,n+1):\n",
    "    for j in range(1,n+1):\n",
    "        if j<=n+1-i:\n",
    "            print(s,end = \"\")\n",
    "        \n",
    "    print()\n",
    "    s-=1"
   ]
  },
  {
   "cell_type": "code",
   "execution_count": null,
   "metadata": {},
   "outputs": [],
   "source": []
  }
 ],
 "metadata": {
  "kernelspec": {
   "display_name": "Python 3",
   "language": "python",
   "name": "python3"
  },
  "language_info": {
   "codemirror_mode": {
    "name": "ipython",
    "version": 3
   },
   "file_extension": ".py",
   "mimetype": "text/x-python",
   "name": "python",
   "nbconvert_exporter": "python",
   "pygments_lexer": "ipython3",
   "version": "3.7.2"
  }
 },
 "nbformat": 4,
 "nbformat_minor": 2
}
