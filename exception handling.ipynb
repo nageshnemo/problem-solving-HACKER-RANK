{
 "cells": [
  {
   "cell_type": "code",
   "execution_count": 7,
   "metadata": {},
   "outputs": [
    {
     "name": "stdout",
     "output_type": "stream",
     "text": [
      "2\n",
      "3\n",
      "0\n",
      "Error Code: integer division or modulo by zero\n",
      "r\n",
      "4\n",
      "Error Code: invalid literal for int() with base 10: 'r'\n"
     ]
    }
   ],
   "source": [
    "for i in range(int(input())):\n",
    "    a = input()\n",
    "    b = input()\n",
    "    try:\n",
    "        c = int(a)\n",
    "        d = int(b)\n",
    "        print(c//d)\n",
    "\n",
    "    except ZeroDivisionError as e:\n",
    "        print(\"Error Code:\",e)\n",
    "\n",
    "    except ValueError as e:\n",
    "        print(\"Error Code:\",e)\n",
    "\n",
    "\n"
   ]
  },
  {
   "cell_type": "code",
   "execution_count": 7,
   "metadata": {},
   "outputs": [
    {
     "name": "stdout",
     "output_type": "stream",
     "text": [
      "palindrome\n"
     ]
    }
   ],
   "source": [
    "\n",
    "\n",
    "\n",
    "\n",
    "\n",
    "str = \"ama\"\n",
    "\n",
    "if str == str[::-1]:\n",
    "    print (\"palindrome\")\n",
    "    \n",
    "else:\n",
    "    print(\"not palindrome\")"
   ]
  },
  {
   "cell_type": "code",
   "execution_count": 4,
   "metadata": {},
   "outputs": [
    {
     "name": "stdout",
     "output_type": "stream",
     "text": [
      "r\n"
     ]
    },
    {
     "data": {
      "text/plain": [
       "str"
      ]
     },
     "execution_count": 4,
     "metadata": {},
     "output_type": "execute_result"
    }
   ],
   "source": [
    "print(b)\n",
    "type(b)"
   ]
  },
  {
   "cell_type": "code",
   "execution_count": null,
   "metadata": {},
   "outputs": [],
   "source": []
  }
 ],
 "metadata": {
  "kernelspec": {
   "display_name": "Python 3",
   "language": "python",
   "name": "python3"
  },
  "language_info": {
   "codemirror_mode": {
    "name": "ipython",
    "version": 3
   },
   "file_extension": ".py",
   "mimetype": "text/x-python",
   "name": "python",
   "nbconvert_exporter": "python",
   "pygments_lexer": "ipython3",
   "version": "3.7.2"
  }
 },
 "nbformat": 4,
 "nbformat_minor": 2
}
