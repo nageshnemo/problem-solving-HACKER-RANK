{
 "cells": [
  {
   "cell_type": "code",
   "execution_count": 13,
   "metadata": {},
   "outputs": [],
   "source": [
    "d1,m1,y1 = 9 ,8 ,2017\n",
    "d2,m2,y2 = 6, 8 ,2015"
   ]
  },
  {
   "cell_type": "code",
   "execution_count": 14,
   "metadata": {},
   "outputs": [
    {
     "name": "stdout",
     "output_type": "stream",
     "text": [
      "20000\n"
     ]
    }
   ],
   "source": [
    "hackos = 0\n",
    "if y1 == y2:\n",
    "    if m1 == m2:\n",
    "        if d1 > d2:\n",
    "            hackos = (15 * (d1-d2))\n",
    "        else:\n",
    "            hackos = 0\n",
    "    else:\n",
    "        hackos  = (500 * (m1-m2))\n",
    "else:\n",
    "    hackos = 10000 * (y1-y2)\n",
    "\n",
    "print(hackos)\n",
    "    "
   ]
  },
  {
   "cell_type": "code",
   "execution_count": null,
   "metadata": {},
   "outputs": [],
   "source": []
  }
 ],
 "metadata": {
  "kernelspec": {
   "display_name": "Python 3",
   "language": "python",
   "name": "python3"
  },
  "language_info": {
   "codemirror_mode": {
    "name": "ipython",
    "version": 3
   },
   "file_extension": ".py",
   "mimetype": "text/x-python",
   "name": "python",
   "nbconvert_exporter": "python",
   "pygments_lexer": "ipython3",
   "version": "3.7.2"
  }
 },
 "nbformat": 4,
 "nbformat_minor": 2
}
