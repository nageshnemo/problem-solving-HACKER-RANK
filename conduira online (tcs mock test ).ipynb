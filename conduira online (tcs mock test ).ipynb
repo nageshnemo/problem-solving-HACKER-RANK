{
 "cells": [
  {
   "cell_type": "code",
   "execution_count": 4,
   "metadata": {},
   "outputs": [
    {
     "name": "stdout",
     "output_type": "stream",
     "text": [
      "4\n",
      "nagesh\n",
      "is\n",
      "a\n",
      "bad\n",
      "['nagesh', 'is', 'a', 'bad']\n",
      "['a', 'bad', 'is', 'nagesh']\n"
     ]
    }
   ],
   "source": [
    "n = int(input())\n",
    "l1 = []\n",
    "for i in range(n):\n",
    "    l1.append(input())\n",
    "    \n",
    "print(l1)\n",
    "\n",
    "\n",
    "for i in sorted(l1):\n",
    "    print(i)"
   ]
  },
  {
   "cell_type": "code",
   "execution_count": null,
   "metadata": {},
   "outputs": [],
   "source": []
  }
 ],
 "metadata": {
  "kernelspec": {
   "display_name": "Python 3",
   "language": "python",
   "name": "python3"
  },
  "language_info": {
   "codemirror_mode": {
    "name": "ipython",
    "version": 3
   },
   "file_extension": ".py",
   "mimetype": "text/x-python",
   "name": "python",
   "nbconvert_exporter": "python",
   "pygments_lexer": "ipython3",
   "version": "3.7.2"
  }
 },
 "nbformat": 4,
 "nbformat_minor": 2
}
