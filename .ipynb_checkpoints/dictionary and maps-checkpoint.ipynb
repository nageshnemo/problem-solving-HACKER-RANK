{
 "cells": [
  {
   "cell_type": "code",
   "execution_count": 4,
   "metadata": {},
   "outputs": [
    {
     "name": "stdout",
     "output_type": "stream",
     "text": [
      "2\n",
      "kndsa sab\n",
      "['kndsa', 'sab']\n",
      "ksdabk knsaf\n",
      "['ksdabk', 'knsaf']\n"
     ]
    }
   ],
   "source": [
    "for i in range(int(input())):\n",
    "    k = input().split()\n",
    "    print (k)"
   ]
  },
  {
   "cell_type": "code",
   "execution_count": 5,
   "metadata": {},
   "outputs": [
    {
     "name": "stdout",
     "output_type": "stream",
     "text": [
      "3\n",
      "nag 353\n",
      "sak 5345\n",
      "ghg shfs\n"
     ]
    }
   ],
   "source": [
    "dict1 = {}\n",
    "for i in range(int(input())):\n",
    "    k = input().split()\n",
    "    dict1[k[0]] = k[1]"
   ]
  },
  {
   "cell_type": "code",
   "execution_count": 6,
   "metadata": {},
   "outputs": [
    {
     "name": "stdout",
     "output_type": "stream",
     "text": [
      "{'nag': '353', 'sak': '5345', 'ghg': 'shfs'}\n"
     ]
    }
   ],
   "source": [
    "print(dict1)"
   ]
  },
  {
   "cell_type": "code",
   "execution_count": null,
   "metadata": {},
   "outputs": [],
   "source": []
  },
  {
   "cell_type": "code",
   "execution_count": 7,
   "metadata": {},
   "outputs": [
    {
     "name": "stdout",
     "output_type": "stream",
     "text": [
      "2\n",
      "nag 35\n",
      "sak 56\n",
      "nag\n"
     ]
    },
    {
     "ename": "KeyError",
     "evalue": "<bound method Kernel.raw_input of <ipykernel.ipkernel.IPythonKernel object at 0x000001DC627FDFD0>>",
     "output_type": "error",
     "traceback": [
      "\u001b[1;31m---------------------------------------------------------------------------\u001b[0m",
      "\u001b[1;31mKeyError\u001b[0m                                  Traceback (most recent call last)",
      "\u001b[1;32m<ipython-input-7-c0ef99140c1f>\u001b[0m in \u001b[0;36m<module>\u001b[1;34m\u001b[0m\n\u001b[0;32m      6\u001b[0m \u001b[1;33m\u001b[0m\u001b[0m\n\u001b[0;32m      7\u001b[0m \u001b[1;32mwhile\u001b[0m\u001b[1;33m(\u001b[0m\u001b[0minput\u001b[0m\u001b[1;33m(\u001b[0m\u001b[1;33m)\u001b[0m\u001b[1;33m)\u001b[0m\u001b[1;33m:\u001b[0m\u001b[1;33m\u001b[0m\u001b[1;33m\u001b[0m\u001b[0m\n\u001b[1;32m----> 8\u001b[1;33m     \u001b[0mprint\u001b[0m\u001b[1;33m(\u001b[0m\u001b[0mdict1\u001b[0m\u001b[1;33m[\u001b[0m\u001b[0minput\u001b[0m\u001b[1;33m]\u001b[0m\u001b[1;33m)\u001b[0m\u001b[1;33m\u001b[0m\u001b[1;33m\u001b[0m\u001b[0m\n\u001b[0m",
      "\u001b[1;31mKeyError\u001b[0m: <bound method Kernel.raw_input of <ipykernel.ipkernel.IPythonKernel object at 0x000001DC627FDFD0>>"
     ]
    }
   ],
   "source": [
    "dict1 = {}\n",
    "for i in range(int(input())):\n",
    "    k = input().split()\n",
    "    dict1[k[0]] = k[1]\n",
    "\n",
    "\n",
    "while(input()):\n",
    "    print(dict1[input])"
   ]
  },
  {
   "cell_type": "code",
   "execution_count": null,
   "metadata": {},
   "outputs": [],
   "source": [
    "dict1 = {}\n",
    "for i in range(int(input())):\n",
    "    k = input().split()\n",
    "    dict1[k[0]] = k[1]\n",
    "\n",
    "\n",
    "while(s is not None):\n",
    "    s = input()\n",
    "    if s in dict1:\n",
    "        print(s+\"=\"+dict1[s])\n",
    "    else:\n",
    "        print(\"Not found\")"
   ]
  },
  {
   "cell_type": "code",
   "execution_count": null,
   "metadata": {},
   "outputs": [],
   "source": [
    "dict1 = {}\n",
    "for i in range(int(input())):\n",
    "    k = input().split()\n",
    "    dict1[k[0]] = k[1]\n",
    "\n",
    "while True:\n",
    "    try:  \n",
    "        search = str(input())\n",
    "\n",
    "        if search in dict1.keys():\n",
    "            print(search+\"=\"+dict1[search])\n",
    "        else:\n",
    "            print (\"Not found\")\n",
    "    except EOFError:\n",
    "        break"
   ]
  },
  {
   "cell_type": "code",
   "execution_count": null,
   "metadata": {},
   "outputs": [],
   "source": []
  }
 ],
 "metadata": {
  "kernelspec": {
   "display_name": "Python 3",
   "language": "python",
   "name": "python3"
  },
  "language_info": {
   "codemirror_mode": {
    "name": "ipython",
    "version": 3
   },
   "file_extension": ".py",
   "mimetype": "text/x-python",
   "name": "python",
   "nbconvert_exporter": "python",
   "pygments_lexer": "ipython3",
   "version": "3.7.2"
  }
 },
 "nbformat": 4,
 "nbformat_minor": 2
}
