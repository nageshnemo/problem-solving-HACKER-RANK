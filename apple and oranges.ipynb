{
 "cells": [
  {
   "cell_type": "code",
   "execution_count": 20,
   "metadata": {},
   "outputs": [
    {
     "name": "stdout",
     "output_type": "stream",
     "text": [
      "[6, 7, 0]\n",
      "[15, 10, 8]\n",
      "1\n",
      "2\n"
     ]
    }
   ],
   "source": [
    "\n",
    "apples = [2,3,-4]\n",
    "oranges = [3,-2,-4]\n",
    "a = 4 # position of tree\n",
    "b = 12 # \n",
    "s = 7\n",
    "t = 10\n",
    "\n",
    "for i in range(len(apples)):\n",
    "    apples[i] = apples[i] + a\n",
    "    \n",
    "for j in range(len(oranges)):\n",
    "    oranges[j] = oranges[j] + b\n",
    "    \n",
    "\n",
    "    \n",
    "               \n",
    "print(apples)\n",
    "print(oranges)\n",
    "\n",
    "app = 0\n",
    "ora = 0\n",
    "for i in apples:\n",
    "    if i>=s and i<=t:\n",
    "        app +=1\n",
    "        \n",
    "for j in oranges:\n",
    "    if j>=s and j<=t:\n",
    "        ora+=1\n",
    "        \n",
    "print (app)\n",
    "print(ora)"
   ]
  },
  {
   "cell_type": "code",
   "execution_count": 13,
   "metadata": {},
   "outputs": [
    {
     "name": "stdout",
     "output_type": "stream",
     "text": [
      "<generator object <genexpr> at 0x000001485A912408>\n"
     ]
    }
   ],
   "source": [
    "\n",
    "    "
   ]
  },
  {
   "cell_type": "code",
   "execution_count": null,
   "metadata": {},
   "outputs": [],
   "source": []
  }
 ],
 "metadata": {
  "kernelspec": {
   "display_name": "Python 3",
   "language": "python",
   "name": "python3"
  },
  "language_info": {
   "codemirror_mode": {
    "name": "ipython",
    "version": 3
   },
   "file_extension": ".py",
   "mimetype": "text/x-python",
   "name": "python",
   "nbconvert_exporter": "python",
   "pygments_lexer": "ipython3",
   "version": "3.7.2"
  }
 },
 "nbformat": 4,
 "nbformat_minor": 2
}
