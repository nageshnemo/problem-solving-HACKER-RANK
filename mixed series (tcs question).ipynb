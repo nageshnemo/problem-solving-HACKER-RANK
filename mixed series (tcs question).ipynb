{
 "cells": [
  {
   "cell_type": "code",
   "execution_count": 31,
   "metadata": {},
   "outputs": [
    {
     "name": "stdout",
     "output_type": "stream",
     "text": [
      "13\n",
      "13\n"
     ]
    }
   ],
   "source": [
    "l1 = []\n",
    "l2 = [1,1]\n",
    "n = int(input())\n",
    "for i in range(1,1000,1):\n",
    "    count = 0\n",
    "    for j in range(1,i+1,1):\n",
    "        if i%j == 0:\n",
    "            count +=1\n",
    "                \n",
    "    if count == 2:\n",
    "        l1.append(i)\n",
    "        if len(l1) >= n:\n",
    "            break\n",
    "k = 1           \n",
    "for j in range(n-2):\n",
    "    l2.append(l2[j] + l2[j+1])\n",
    "    \n",
    "\n",
    "final = []\n",
    "x = 0\n",
    "y = 0\n",
    "for k in range(1,n+1):\n",
    "    if k% 2 == 0:\n",
    "        final.append(l1[x])\n",
    "        x+=1\n",
    "    else:\n",
    "        final.append(l2[y])\n",
    "        y+=1\n",
    "        \n",
    "print (final[n-1])"
   ]
  },
  {
   "cell_type": "code",
   "execution_count": 11,
   "metadata": {},
   "outputs": [
    {
     "name": "stdout",
     "output_type": "stream",
     "text": [
      "[2, 3, 5, 7, 11, 13, 17, 19, 23, 29, 31, 37]\n"
     ]
    }
   ],
   "source": [
    "print(l1)"
   ]
  },
  {
   "cell_type": "code",
   "execution_count": 3,
   "metadata": {},
   "outputs": [
    {
     "name": "stdout",
     "output_type": "stream",
     "text": [
      "[2, 3, 5, 7, 11, 13, 17, 19, 23, 29, 31, 37, 41, 43, 47, 53, 59, 61, 67, 71, 73, 79, 83, 89, 97]\n"
     ]
    }
   ],
   "source": [
    "n = int(input())\n",
    "\n",
    "for i in range(1,n+1):\n",
    "    if n % 2 == 0"
   ]
  },
  {
   "cell_type": "code",
   "execution_count": 15,
   "metadata": {},
   "outputs": [
    {
     "name": "stdout",
     "output_type": "stream",
     "text": [
      "12\n",
      "13\n"
     ]
    }
   ],
   "source": [
    "n = int(input())\n",
    "final = []\n",
    "start = 1\n",
    "for i in range(1,n+1):\n",
    "    if i % 2 == 0:\n",
    "        while start >=1:\n",
    "            count = 0\n",
    "            for j in range(1,start+1,1):\n",
    "                if start % j == 0:\n",
    "                    count +=1\n",
    "            if count == 2:\n",
    "                final.append(start)\n",
    "                start+=1\n",
    "                break\n",
    "            else:\n",
    "                start+=1\n",
    "    else:\n",
    "        if i == 1:\n",
    "            final.append(1)\n",
    "        elif i == 3:\n",
    "            final.append(1)\n",
    "        else:\n",
    "            final.append(final[i-3]+final[i-5])\n",
    "            \n",
    "            \n",
    "print(final[n-1])"
   ]
  },
  {
   "cell_type": "code",
   "execution_count": null,
   "metadata": {},
   "outputs": [],
   "source": []
  }
 ],
 "metadata": {
  "kernelspec": {
   "display_name": "Python 3",
   "language": "python",
   "name": "python3"
  },
  "language_info": {
   "codemirror_mode": {
    "name": "ipython",
    "version": 3
   },
   "file_extension": ".py",
   "mimetype": "text/x-python",
   "name": "python",
   "nbconvert_exporter": "python",
   "pygments_lexer": "ipython3",
   "version": "3.7.2"
  }
 },
 "nbformat": 4,
 "nbformat_minor": 2
}
