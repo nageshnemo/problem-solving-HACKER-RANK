{
 "cells": [
  {
   "cell_type": "code",
   "execution_count": 5,
   "metadata": {},
   "outputs": [
    {
     "name": "stdout",
     "output_type": "stream",
     "text": [
      "hcf is  3\n"
     ]
    }
   ],
   "source": [
    "# hcf of more than two nos\n",
    "\n",
    "a = 3\n",
    "b = 6\n",
    "c = 12\n",
    "d = 18\n",
    "\n",
    "for j in range(min(a,b,c,d),0,-1):\n",
    "    if a % j == 0 and b % j == 0 and c%j ==0 and d % j == 0:\n",
    "        print(\"hcf is \",j)\n",
    "        break"
   ]
  },
  {
   "cell_type": "code",
   "execution_count": 1,
   "metadata": {},
   "outputs": [
    {
     "name": "stdout",
     "output_type": "stream",
     "text": [
      "lcm is  72\n"
     ]
    }
   ],
   "source": [
    "# lcm of more than 2 nos\n",
    " \n",
    "a = 3\n",
    "b = 6\n",
    "c = 24\n",
    "d = 18\n",
    "for i in range(max(a,b,c,d),a*b*c*d+1,1):\n",
    "    if i % a ==0  and i % b == 0 and i % c ==0 and i%d == 0:\n",
    "        print(\"lcm is \",i)\n",
    "        break"
   ]
  },
  {
   "cell_type": "code",
   "execution_count": 9,
   "metadata": {},
   "outputs": [
    {
     "name": "stdout",
     "output_type": "stream",
     "text": [
      "HCf is 3\n"
     ]
    }
   ],
   "source": [
    "l1 = [3,6,12,18]\n",
    "#hcf of array of nos\n",
    "\n",
    "\n",
    "for min1 in range(min(l1),0,-1):\n",
    "    count = 0\n",
    "    for i in range(len(l1)):\n",
    "        if l1[i] % min1 ==0:\n",
    "            count+=1\n",
    "            \n",
    "    if count == len(l1):\n",
    "        print(\"HCf is\",min1)\n",
    "        break\n",
    "    \n",
    "            \n",
    "            "
   ]
  },
  {
   "cell_type": "code",
   "execution_count": 5,
   "metadata": {},
   "outputs": [
    {
     "name": "stdout",
     "output_type": "stream",
     "text": [
      "24\n",
      "lcm is  72\n"
     ]
    }
   ],
   "source": [
    "# lcm of array of nos\n",
    "\n",
    "l2 = [3,6,24,18]\n",
    "\n",
    "max1 = max(l2)\n",
    "print(max1)\n",
    "\n",
    "while(max1!=0):\n",
    "    count = 0\n",
    "    for i in range(len(l2)):\n",
    "        if max1 % l2[i]==0:\n",
    "            count+=1\n",
    "            \n",
    "    \n",
    "    \n",
    "    \n",
    "    if count == len(l2):\n",
    "        print(\"lcm is \",max1)\n",
    "        break\n",
    "        \n",
    "    max1 = max1 + 1   \n",
    "        \n",
    "\n"
   ]
  },
  {
   "cell_type": "code",
   "execution_count": null,
   "metadata": {},
   "outputs": [],
   "source": []
  }
 ],
 "metadata": {
  "kernelspec": {
   "display_name": "Python 3",
   "language": "python",
   "name": "python3"
  },
  "language_info": {
   "codemirror_mode": {
    "name": "ipython",
    "version": 3
   },
   "file_extension": ".py",
   "mimetype": "text/x-python",
   "name": "python",
   "nbconvert_exporter": "python",
   "pygments_lexer": "ipython3",
   "version": "3.7.2"
  }
 },
 "nbformat": 4,
 "nbformat_minor": 2
}
