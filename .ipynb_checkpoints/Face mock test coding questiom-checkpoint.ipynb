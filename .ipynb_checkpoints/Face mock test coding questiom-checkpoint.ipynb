{
 "cells": [
  {
   "cell_type": "code",
   "execution_count": 26,
   "metadata": {},
   "outputs": [
    {
     "name": "stdout",
     "output_type": "stream",
     "text": [
      "roses\n",
      "ass\n",
      "things\n"
     ]
    }
   ],
   "source": [
    "# str1 = \"roses are ass\"\n",
    "\n",
    "\n",
    "str1 = \"roses are ass things\"\n",
    "str1 = str1 + \" \"\n",
    "count = 0\n",
    "j = 0\n",
    "for i in range(len(str1)):\n",
    "    if str1[i] == \" \" and str1[i-1] == \"s\":\n",
    "        while j<i:\n",
    "            print(str1[j],end =\"\")\n",
    "            j+=1\n",
    "        print()\n",
    "        j = i+1\n",
    "\n",
    "    else:\n",
    "        if str1[i] == \" \":\n",
    "            j = i+1\n",
    "            \n",
    "            "
   ]
  },
  {
   "cell_type": "code",
   "execution_count": 14,
   "metadata": {},
   "outputs": [
    {
     "name": "stdout",
     "output_type": "stream",
     "text": [
      "roses are red of colours\n",
      "roses\n",
      "colours\n"
     ]
    }
   ],
   "source": [
    "\n",
    "l1 = input().split()\n",
    "for i in l1:\n",
    "    if i[-1] == \"s\":\n",
    "        print(i)"
   ]
  },
  {
   "cell_type": "code",
   "execution_count": null,
   "metadata": {},
   "outputs": [],
   "source": []
  }
 ],
 "metadata": {
  "kernelspec": {
   "display_name": "Python 3",
   "language": "python",
   "name": "python3"
  },
  "language_info": {
   "codemirror_mode": {
    "name": "ipython",
    "version": 3
   },
   "file_extension": ".py",
   "mimetype": "text/x-python",
   "name": "python",
   "nbconvert_exporter": "python",
   "pygments_lexer": "ipython3",
   "version": "3.7.2"
  }
 },
 "nbformat": 4,
 "nbformat_minor": 2
}
