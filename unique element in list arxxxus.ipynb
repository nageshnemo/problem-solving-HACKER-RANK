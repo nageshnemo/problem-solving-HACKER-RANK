{
 "cells": [
  {
   "cell_type": "code",
   "execution_count": 5,
   "metadata": {},
   "outputs": [
    {
     "name": "stdout",
     "output_type": "stream",
     "text": [
      "aaabbbb124ccccddde\n",
      "124e\n"
     ]
    }
   ],
   "source": [
    "str1 = \"aaabbbb124ccccddde\"\n",
    "unique = \"\"\n",
    "\n",
    "for i in range(len(str1)):\n",
    "    count = 0\n",
    "    for j in range(len(str1)):\n",
    "        if str1[i] == str1[j] and i !=j:\n",
    "            count = 1\n",
    "            \n",
    "    if count == 0:\n",
    "        unique = unique + str1[i]\n",
    "        \n",
    "print(str1)\n",
    "print(unique)"
   ]
  },
  {
   "cell_type": "code",
   "execution_count": null,
   "metadata": {},
   "outputs": [],
   "source": []
  }
 ],
 "metadata": {
  "kernelspec": {
   "display_name": "Python 3",
   "language": "python",
   "name": "python3"
  },
  "language_info": {
   "codemirror_mode": {
    "name": "ipython",
    "version": 3
   },
   "file_extension": ".py",
   "mimetype": "text/x-python",
   "name": "python",
   "nbconvert_exporter": "python",
   "pygments_lexer": "ipython3",
   "version": "3.7.2"
  }
 },
 "nbformat": 4,
 "nbformat_minor": 2
}
