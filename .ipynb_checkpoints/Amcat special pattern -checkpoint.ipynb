{
 "cells": [
  {
   "cell_type": "code",
   "execution_count": 1,
   "metadata": {},
   "outputs": [
    {
     "name": "stdout",
     "output_type": "stream",
     "text": [
      "1\n",
      "3*2\n",
      "4*5*6\n",
      "10*9*8*7\n",
      "11*12*13*14*15\n"
     ]
    }
   ],
   "source": [
    "\"\"\"\n",
    "N=5 Output\n",
    "1 \n",
    "3*2\n",
    "4*5*6\n",
    "10*9*8*7\n",
    "11*12*13*14*15 \n",
    "\"\"\"\n",
    "# this is the output when we are using N = 5\n",
    "\n",
    "\n",
    "N = 5                  # when value of N = 5\n",
    "l = -1\n",
    "k = 0\n",
    "count = 0\n",
    "for i in range(1,N+1):\n",
    "    l+=2\n",
    "    if i % 2 !=0:\n",
    "        k = k+i-1\n",
    "        \n",
    "    else:\n",
    "        count+=1\n",
    "        m = i * count + count\n",
    "    for j in range(1,N*2):\n",
    "        if j <=l:\n",
    "            if j % 2 == 0:\n",
    "                print(\"*\",end=\"\")\n",
    "            else:\n",
    "                if i % 2 == 0:\n",
    "                    print(m,end=\"\")\n",
    "                    m-=1\n",
    "                    \n",
    "                else:\n",
    "                    k+=1\n",
    "                    print(k,end =\"\")\n",
    "        \n",
    "    print()"
   ]
  },
  {
   "cell_type": "code",
   "execution_count": 22,
   "metadata": {},
   "outputs": [
    {
     "name": "stdout",
     "output_type": "stream",
     "text": [
      "1112\n",
      "3222\n",
      "3334\n",
      "5444\n",
      "5556\n"
     ]
    }
   ],
   "source": [
    "\"\"\"\n",
    "To print the pattern like  for n=3 the program should print \n",
    "1 1 1 2\n",
    "3 2 2 2 \n",
    "3 3 3 4 \n",
    "5 4 4 4\n",
    "\n",
    "\"\"\"\n",
    "\n",
    "N = 5\n",
    "for i in range(1,N+1):\n",
    "    if i % 2 != 0:\n",
    "        temp1 = i\n",
    "    else:\n",
    "        temp2 =  i + 1\n",
    "    for j in range(1,5):\n",
    "        if i % 2 == 0:\n",
    "            if j ==1:\n",
    "                print(temp2,end = \"\")\n",
    "                temp2 -=1\n",
    "            else:\n",
    "                \n",
    "                print(temp2,end = \"\")\n",
    "        else:\n",
    "            if j ==4:\n",
    "                temp1+=1\n",
    "                print(temp1,end= \"\")\n",
    "            else:\n",
    "                print(temp1,end = \"\")\n",
    "        \n",
    "    print()\n"
   ]
  },
  {
   "cell_type": "code",
   "execution_count": null,
   "metadata": {},
   "outputs": [],
   "source": []
  }
 ],
 "metadata": {
  "kernelspec": {
   "display_name": "Python 3",
   "language": "python",
   "name": "python3"
  },
  "language_info": {
   "codemirror_mode": {
    "name": "ipython",
    "version": 3
   },
   "file_extension": ".py",
   "mimetype": "text/x-python",
   "name": "python",
   "nbconvert_exporter": "python",
   "pygments_lexer": "ipython3",
   "version": "3.7.2"
  }
 },
 "nbformat": 4,
 "nbformat_minor": 2
}
