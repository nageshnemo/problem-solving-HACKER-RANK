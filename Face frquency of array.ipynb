{
 "cells": [
  {
   "cell_type": "code",
   "execution_count": 22,
   "metadata": {},
   "outputs": [
    {
     "name": "stdout",
     "output_type": "stream",
     "text": [
      "{10: 1, 2: 1, 345: 2, 343: 1, 3: 1, 32: 1, 22: 2, 4: 1}\n",
      "2\n",
      "2\n",
      "3\n",
      "2\n",
      "2\n",
      "2\n",
      "2\n",
      "3\n",
      "2\n",
      "2\n"
     ]
    }
   ],
   "source": [
    "ar1 = [10,2,345,343,345,3,32,22,22,4]\n",
    "\n",
    "dict1 ={}\n",
    "\n",
    "for i in ar1:\n",
    "    if i in dict1:\n",
    "        dict1[i]+=1\n",
    "        \n",
    "    else:\n",
    "        dict1[i] = 1\n",
    "        \n",
    "        \n",
    "    \n",
    "print(dict1)    \n",
    "\n",
    "\n",
    "\n",
    "for i in range(len(ar1)):\n",
    "    count=1\n",
    "    for j in range(i+1,len(ar1)):\n",
    "        if ar1[i] == ar1[j]:\n",
    "            count+=1\n",
    "    print(count,)\n",
    "        "
   ]
  },
  {
   "cell_type": "code",
   "execution_count": 8,
   "metadata": {},
   "outputs": [
    {
     "name": "stdout",
     "output_type": "stream",
     "text": [
      "10 0\n",
      "2 0\n",
      "sorry  345 occurs  1 times\n",
      "343 0\n",
      "345 0\n",
      "3 0\n",
      "32 0\n",
      "sorry  22 occurs  1 times\n",
      "22 0\n",
      "4 0\n"
     ]
    }
   ],
   "source": [
    "for i in range(len(ar1)):\n",
    "    count=0\n",
    "    for j in range(i+1,len(ar1)):\n",
    "        if ar1[i] == ar1[j]:\n",
    "            count+=1\n",
    "    if count == 0:\n",
    "        print(ar1[i],count)\n",
    "        \n",
    "    else:\n",
    "        print(\"sorry \",ar1[i],\"occurs \",count,\"times\")"
   ]
  },
  {
   "cell_type": "code",
   "execution_count": null,
   "metadata": {},
   "outputs": [],
   "source": [
    "ar1= [1,2,3,4,5,6]\n",
    "for in range(len(ar1)):\n",
    "    for j in ra\n"
   ]
  }
 ],
 "metadata": {
  "kernelspec": {
   "display_name": "Python 3",
   "language": "python",
   "name": "python3"
  },
  "language_info": {
   "codemirror_mode": {
    "name": "ipython",
    "version": 3
   },
   "file_extension": ".py",
   "mimetype": "text/x-python",
   "name": "python",
   "nbconvert_exporter": "python",
   "pygments_lexer": "ipython3",
   "version": "3.7.2"
  }
 },
 "nbformat": 4,
 "nbformat_minor": 2
}
