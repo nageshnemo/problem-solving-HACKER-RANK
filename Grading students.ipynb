{
 "cells": [
  {
   "cell_type": "code",
   "execution_count": 24,
   "metadata": {},
   "outputs": [
    {
     "name": "stdout",
     "output_type": "stream",
     "text": [
      "75\n",
      "67\n",
      "40\n",
      "33\n"
     ]
    }
   ],
   "source": [
    "def gradingstudents():\n",
    "    list1 =[73,67,38,33]\n",
    "    \n",
    "    for i in list1:\n",
    "        if i<38:\n",
    "            i = 33\n",
    "            print(i)\n",
    "        \n",
    "        elif i%5==0:\n",
    "            print(i)\n",
    "            \n",
    "        else:\n",
    "            temp =  i\n",
    "            while temp % 5 != 0:\n",
    "                temp+=1\n",
    "            if temp - i <3:\n",
    "                i = temp\n",
    "                print(i)\n",
    "            elif temp -i == 3:\n",
    "                print(i)\n",
    "            elif i<38:\n",
    "                i = 33\n",
    "                print(i)\n",
    "\n",
    "\n",
    "\n",
    "gradingstudents()"
   ]
  },
  {
   "cell_type": "code",
   "execution_count": 13,
   "metadata": {},
   "outputs": [
    {
     "data": {
      "text/plain": [
       "3"
      ]
     },
     "execution_count": 13,
     "metadata": {},
     "output_type": "execute_result"
    }
   ],
   "source": [
    "73%10"
   ]
  },
  {
   "cell_type": "code",
   "execution_count": 16,
   "metadata": {},
   "outputs": [
    {
     "data": {
      "text/plain": [
       "9"
      ]
     },
     "execution_count": 16,
     "metadata": {},
     "output_type": "execute_result"
    }
   ],
   "source": [
    "69 % 10"
   ]
  },
  {
   "cell_type": "code",
   "execution_count": 19,
   "metadata": {},
   "outputs": [
    {
     "name": "stdout",
     "output_type": "stream",
     "text": [
      "40\n"
     ]
    }
   ],
   "source": [
    "n = 37\n",
    "while n % 5 !=0:\n",
    "    n+=1\n",
    "    \n",
    "print(n)"
   ]
  },
  {
   "cell_type": "code",
   "execution_count": 28,
   "metadata": {},
   "outputs": [
    {
     "name": "stdout",
     "output_type": "stream",
     "text": [
      "2\n",
      "45\n",
      "6767\n",
      "87\n"
     ]
    }
   ],
   "source": [
    "list2 = [2,45,6767,87]\n",
    "print('\\n'.join(map(str, list2)))"
   ]
  },
  {
   "cell_type": "code",
   "execution_count": null,
   "metadata": {},
   "outputs": [],
   "source": []
  }
 ],
 "metadata": {
  "kernelspec": {
   "display_name": "Python 3",
   "language": "python",
   "name": "python3"
  },
  "language_info": {
   "codemirror_mode": {
    "name": "ipython",
    "version": 3
   },
   "file_extension": ".py",
   "mimetype": "text/x-python",
   "name": "python",
   "nbconvert_exporter": "python",
   "pygments_lexer": "ipython3",
   "version": "3.7.2"
  }
 },
 "nbformat": 4,
 "nbformat_minor": 2
}
