{
 "cells": [
  {
   "cell_type": "code",
   "execution_count": 1,
   "metadata": {},
   "outputs": [
    {
     "name": "stdout",
     "output_type": "stream",
     "text": [
      "12\n",
      "23\n",
      "35\n"
     ]
    }
   ],
   "source": [
    "\n",
    "def solveMeFirst(a,b):\n",
    "\treturn a+b\n",
    "\n",
    "\n",
    "num1 = int(input())\n",
    "num2 = int(input())\n",
    "res = solveMeFirst(num1,num2)\n",
    "print(res)\n"
   ]
  },
  {
   "cell_type": "markdown",
   "metadata": {},
   "source": [
    "Complete the function solveMeFirst to compute the sum of two integers.\n",
    "\n",
    "Function prototype:\n",
    "\n",
    "int solveMeFirst(int a, int b);\n",
    "\n",
    "where,\n",
    "\n",
    "a is the first integer input.\n",
    "b is the second integer input\n",
    "Return values\n",
    "\n",
    "sum of the above two integers\n",
    "Sample Input"
   ]
  }
 ],
 "metadata": {
  "kernelspec": {
   "display_name": "Python 3",
   "language": "python",
   "name": "python3"
  },
  "language_info": {
   "codemirror_mode": {
    "name": "ipython",
    "version": 3
   },
   "file_extension": ".py",
   "mimetype": "text/x-python",
   "name": "python",
   "nbconvert_exporter": "python",
   "pygments_lexer": "ipython3",
   "version": "3.7.2"
  }
 },
 "nbformat": 4,
 "nbformat_minor": 2
}
