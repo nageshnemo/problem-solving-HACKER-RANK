{
 "cells": [
  {
   "cell_type": "code",
   "execution_count": 1,
   "metadata": {},
   "outputs": [],
   "source": [
    "# 8 question in a row of mindtree\n",
    "\n",
    "\"\"\"\n",
    "N=5 Output\n",
    "1 \n",
    "3*2\n",
    "4*5*6\n",
    "10*9*8*7\n",
    "11*12*13*14*15 \n",
    "\"\"\""
   ]
  },
  {
   "cell_type": "code",
   "execution_count": 11,
   "metadata": {},
   "outputs": [
    {
     "name": "stdout",
     "output_type": "stream",
     "text": [
      "1\n",
      "3*2\n",
      "4*5*6\n",
      "10*9*8*7\n",
      "11*12*13*14*15\n",
      "21*20*19*18*17*16\n"
     ]
    }
   ],
   "source": [
    "# i will do all the question in given time limit\n",
    "# what is the time limit\n",
    "\n",
    "N = 6\n",
    "l = -1\n",
    "k = 0\n",
    "count = 0\n",
    "for i in range(1,N+1):\n",
    "    l+=2\n",
    "    if i % 2 !=0:\n",
    "        k = k+i-1\n",
    "        \n",
    "    else:\n",
    "        count+=1\n",
    "        m = i * count + count\n",
    "    for j in range(1,N*2):\n",
    "        if j <=l:\n",
    "            if j % 2 == 0:\n",
    "                print(\"*\",end=\"\")\n",
    "            else:\n",
    "                if i % 2 == 0:\n",
    "                    print(m,end=\"\")\n",
    "                    m-=1\n",
    "                    \n",
    "                else:\n",
    "                    k+=1\n",
    "                    print(k,end =\"\")\n",
    "        \n",
    "    print()"
   ]
  },
  {
   "cell_type": "code",
   "execution_count": 42,
   "metadata": {},
   "outputs": [
    {
     "name": "stdout",
     "output_type": "stream",
     "text": [
      "4\n",
      "55\n",
      "666\n",
      "7777\n",
      "7777\n",
      "666\n",
      "55\n",
      "4\n"
     ]
    }
   ],
   "source": [
    "\"\"\"\n",
    "\n",
    "for n = 4 s = 4\n",
    "3\n",
    "44\n",
    "555\n",
    "6666\n",
    "6666\n",
    "555\n",
    "44\n",
    "3\n",
    "\"\"\"\n",
    "n = 4\n",
    "s = 4\n",
    "\n",
    "for i in range(1,n+1):\n",
    "    for j in range(1,n+1):\n",
    "        if j<=i:\n",
    "            print(s,end = \"\")\n",
    "        \n",
    "    print()\n",
    "    s+=1\n",
    "    \n",
    "s-=1\n",
    "for i in range(1,n+1):\n",
    "    for j in range(1,n+1):\n",
    "        if j<=n+1-i:\n",
    "            print(s,end = \"\")\n",
    "        \n",
    "    print()\n",
    "    s-=1"
   ]
  },
  {
   "cell_type": "code",
   "execution_count": 49,
   "metadata": {},
   "outputs": [
    {
     "name": "stdout",
     "output_type": "stream",
     "text": [
      "1\n",
      "22\n",
      "333\n",
      "4444\n",
      "55555\n",
      "4444\n",
      "333\n",
      "22\n",
      "1\n"
     ]
    }
   ],
   "source": [
    "\"\"\"\n",
    "\n",
    "\n",
    "\n",
    "1\n",
    "22\n",
    "333\n",
    "4444\n",
    "55555\n",
    "4444\n",
    "333\n",
    "22\n",
    "1\n",
    "\n",
    "\n",
    "\"\"\"\n",
    "\n",
    "\n",
    "\n",
    "n = 5\n",
    "s = 1\n",
    "for i in range(1,n+1):\n",
    "    for j in range(1,n+1):\n",
    "        if j<=i:\n",
    "            print(s,end = \"\")\n",
    "        \n",
    "    print()\n",
    "    s+=1\n",
    "s-=1    \n",
    "for i in range(1,n):\n",
    "    s-=1\n",
    "    for j in range(1,n+1):\n",
    "        if j<=n-i:\n",
    "            \n",
    "            print(s,end = \"\")\n",
    "        \n",
    "    print()"
   ]
  },
  {
   "cell_type": "code",
   "execution_count": 54,
   "metadata": {},
   "outputs": [
    {
     "name": "stdout",
     "output_type": "stream",
     "text": [
      "{'n': 1, 'a': 3, 'g': 1, 's': 1, 'k': 1, 'i': 1}\n"
     ]
    }
   ],
   "source": [
    "# frequency of digits:\n",
    "\n",
    "str1 = \"nagasaki\"\n",
    "\n",
    "dict1 = {}\n",
    "\n",
    "\n",
    "for i in str1:\n",
    "    if i in dict1:\n",
    "        dict1[i]+= 1\n",
    "        \n",
    "    else:\n",
    "        dict1[i] =1\n",
    "        \n",
    "        \n",
    "print(dict1)"
   ]
  },
  {
   "cell_type": "code",
   "execution_count": 57,
   "metadata": {},
   "outputs": [],
   "source": [
    "no = 1232345345\n",
    "\n",
    "dict2 = {}\n",
    "\n",
    "for i in str(no):\n",
    "    if i in dict2:\n",
    "        dict2[i]+= 1\n",
    "        \n",
    "    else:\n",
    "        dict2[i] =1\n",
    "        \n",
    "    "
   ]
  },
  {
   "cell_type": "code",
   "execution_count": 58,
   "metadata": {},
   "outputs": [
    {
     "name": "stdout",
     "output_type": "stream",
     "text": [
      "{'1': 1, '2': 2, '3': 3, '4': 2, '5': 2}\n"
     ]
    }
   ],
   "source": [
    "print(dict2)"
   ]
  },
  {
   "cell_type": "code",
   "execution_count": 59,
   "metadata": {},
   "outputs": [
    {
     "data": {
      "text/plain": [
       "'\\n\\n1\\n123\\n1 2 3 4 5\\n1 2 3 4 5 6 7\\n1 2 3 4 5 6 7 8 9\\n1 2 3 4 5 6 7\\n1 2 3 4 5\\n123\\n1\\n\\n\\nfor n = 5\\n\\n\\n\\n\\n'"
      ]
     },
     "execution_count": 59,
     "metadata": {},
     "output_type": "execute_result"
    }
   ],
   "source": [
    "\"\"\"\n",
    "\n",
    "1\n",
    "1 2 3\n",
    "1 2 3 4 5\n",
    "1 2 3 4 5 6 7\n",
    "1 2 3 4 5 6 7 8 9\n",
    "1 2 3 4 5 6 7\n",
    "1 2 3 4 5\n",
    "1 2 3\n",
    "1\n",
    "\n",
    "\n",
    "for n = 5\n",
    "\n",
    "ss\n",
    "\n",
    "\n",
    "\"\"\""
   ]
  },
  {
   "cell_type": "code",
   "execution_count": null,
   "metadata": {},
   "outputs": [],
   "source": []
  }
 ],
 "metadata": {
  "kernelspec": {
   "display_name": "Python 3",
   "language": "python",
   "name": "python3"
  },
  "language_info": {
   "codemirror_mode": {
    "name": "ipython",
    "version": 3
   },
   "file_extension": ".py",
   "mimetype": "text/x-python",
   "name": "python",
   "nbconvert_exporter": "python",
   "pygments_lexer": "ipython3",
   "version": "3.7.2"
  }
 },
 "nbformat": 4,
 "nbformat_minor": 2
}
