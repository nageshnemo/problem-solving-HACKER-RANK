{
 "cells": [
  {
   "cell_type": "code",
   "execution_count": null,
   "metadata": {},
   "outputs": [],
   "source": [
    "John works at a clothing store. He has a large pile of socks that he must pair by color for sale. Given an array of integers representing the color of each sock, determine how many pairs of socks with matching colors there are.\n",
    "\n",
    "For example, there are  socks with colors . There is one pair of color  and one of color . There are three odd socks left, one of each color. The number of pairs is .\n",
    "\n",
    "Function Description\n",
    "\n",
    "Complete the sockMerchant function in the editor below. It must return an integer representing the number of matching pairs of socks that are available.\n",
    "\n",
    "sockMerchant has the following parameter(s):\n",
    "\n",
    "n: the number of socks in the pile\n",
    "ar: the colors of each sock\n",
    "Input Format\n",
    "\n",
    "The first line contains an integer , the number of socks represented in . \n",
    "The second line contains  space-separated integers describing the colors  of the socks in the pile.\n",
    "\n",
    "Constraints\n",
    "\n",
    " where \n",
    "Output Format\n",
    "\n",
    "Return the total number of matching pairs of socks that John can sell.\n",
    "\n",
    "Sample Input\n",
    "\n",
    "9\n",
    "10 20 20 10 10 30 50 10 20\n",
    "Sample Output\n",
    "\n",
    "3\n",
    "Explanation\n",
    "\n",
    "sock.png\n",
    "\n",
    "John can match three pairs of socks."
   ]
  },
  {
   "cell_type": "code",
   "execution_count": 2,
   "metadata": {},
   "outputs": [
    {
     "name": "stdout",
     "output_type": "stream",
     "text": [
      "3\n"
     ]
    }
   ],
   "source": [
    "ar = [10 ,20 ,20 ,10 ,10 ,30 ,50 ,10 ,20]\n",
    "sum = 0\n",
    "for i in range(len(ar)):\n",
    "    count = 0\n",
    "    for j in range(i+1,len(ar)):\n",
    "        if ar[i] == ar[j]:\n",
    "            count+=1\n",
    "    sum = sum + count%2\n",
    "        \n",
    "        \n",
    "print(sum)"
   ]
  },
  {
   "cell_type": "code",
   "execution_count": null,
   "metadata": {},
   "outputs": [],
   "source": []
  }
 ],
 "metadata": {
  "kernelspec": {
   "display_name": "Python 3",
   "language": "python",
   "name": "python3"
  },
  "language_info": {
   "codemirror_mode": {
    "name": "ipython",
    "version": 3
   },
   "file_extension": ".py",
   "mimetype": "text/x-python",
   "name": "python",
   "nbconvert_exporter": "python",
   "pygments_lexer": "ipython3",
   "version": "3.7.2"
  }
 },
 "nbformat": 4,
 "nbformat_minor": 2
}
