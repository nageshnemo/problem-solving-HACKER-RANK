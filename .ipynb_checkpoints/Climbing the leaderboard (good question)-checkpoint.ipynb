{
 "cells": [
  {
   "cell_type": "code",
   "execution_count": 21,
   "metadata": {},
   "outputs": [
    {
     "name": "stdout",
     "output_type": "stream",
     "text": [
      "[100, 50, 40, 20, 10, 3]\n",
      "[100, 100, 50, 40, 40, 20, 10, 3]\n",
      "5\n",
      "3\n",
      "1\n",
      "0\n"
     ]
    }
   ],
   "source": [
    "leaderboard = [100 ,100, 50, 40, 40, 20, 10,3]\n",
    "alice = [5,25,50,120]\n",
    "\n",
    "\n",
    "orig = []\n",
    "for i in leaderboard:\n",
    "    if i not in orig:\n",
    "        orig.append(i)\n",
    "print (orig)\n",
    "print(leaderboard)\n",
    "for i in range(len(alice)):\n",
    "    count = 0\n",
    "    for j in range(len(orig)):\n",
    "        if alice[i] < orig[j]:\n",
    "            count+=1\n",
    "            \n",
    "        \n",
    "    print (count)\n",
    "    "
   ]
  },
  {
   "cell_type": "code",
   "execution_count": null,
   "metadata": {},
   "outputs": [],
   "source": []
  }
 ],
 "metadata": {
  "kernelspec": {
   "display_name": "Python 3",
   "language": "python",
   "name": "python3"
  },
  "language_info": {
   "codemirror_mode": {
    "name": "ipython",
    "version": 3
   },
   "file_extension": ".py",
   "mimetype": "text/x-python",
   "name": "python",
   "nbconvert_exporter": "python",
   "pygments_lexer": "ipython3",
   "version": "3.7.2"
  }
 },
 "nbformat": 4,
 "nbformat_minor": 2
}
