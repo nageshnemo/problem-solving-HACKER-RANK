{
 "cells": [
  {
   "cell_type": "code",
   "execution_count": 4,
   "metadata": {},
   "outputs": [
    {
     "name": "stdout",
     "output_type": "stream",
     "text": [
      "hcf is  1\n"
     ]
    }
   ],
   "source": [
    "# hcf of more than two nos\n",
    "\n",
    "a = 97\n",
    "b = 12\n",
    "c = 24\n",
    "d = 78\n",
    "\n",
    "for j in range(min(a,b,c,d),0,-1):\n",
    "    if a % j == 0 and b % j == 0 and c%j ==0 and d % j == 0:\n",
    "        print(\"hcf is \",j)\n",
    "        break"
   ]
  },
  {
   "cell_type": "code",
   "execution_count": null,
   "metadata": {},
   "outputs": [],
   "source": [
    "# lcm of more than 2 nos\n",
    " \n",
    "a = 3\n",
    "b = 6\n",
    "c = 67\n",
    "d = 79\n",
    "for i in range(max(a,b),a*b*c*d+1):\n",
    "    if i % a ==0  and i % b == 0:\n",
    "        print(\"lcm is \",i)\n",
    "        break"
   ]
  }
 ],
 "metadata": {
  "kernelspec": {
   "display_name": "Python 3",
   "language": "python",
   "name": "python3"
  },
  "language_info": {
   "codemirror_mode": {
    "name": "ipython",
    "version": 3
   },
   "file_extension": ".py",
   "mimetype": "text/x-python",
   "name": "python",
   "nbconvert_exporter": "python",
   "pygments_lexer": "ipython3",
   "version": "3.7.2"
  }
 },
 "nbformat": 4,
 "nbformat_minor": 2
}
