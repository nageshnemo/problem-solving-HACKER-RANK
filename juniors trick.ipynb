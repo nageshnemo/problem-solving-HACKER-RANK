{
 "cells": [
  {
   "cell_type": "code",
   "execution_count": 7,
   "metadata": {},
   "outputs": [
    {
     "name": "stdout",
     "output_type": "stream",
     "text": [
      "9\n",
      "16\n"
     ]
    }
   ],
   "source": [
    "# 1 1 2 3 4 9 8 27 16 81 32 243\n",
    "\n",
    "n = int(input())\n",
    "\n",
    "odd = 1 \n",
    "even = 1 \n",
    "\n",
    "for i in range(3,n+1):\n",
    "    if i % 2 == 0:\n",
    "        even = even *3\n",
    "    else:\n",
    "        odd = odd *2\n",
    "\n",
    "if n % 2 == 0:\n",
    "    print(even)\n",
    "else:\n",
    "    print(odd)"
   ]
  },
  {
   "cell_type": "code",
   "execution_count": null,
   "metadata": {},
   "outputs": [],
   "source": []
  }
 ],
 "metadata": {
  "kernelspec": {
   "display_name": "Python 3",
   "language": "python",
   "name": "python3"
  },
  "language_info": {
   "codemirror_mode": {
    "name": "ipython",
    "version": 3
   },
   "file_extension": ".py",
   "mimetype": "text/x-python",
   "name": "python",
   "nbconvert_exporter": "python",
   "pygments_lexer": "ipython3",
   "version": "3.7.2"
  }
 },
 "nbformat": 4,
 "nbformat_minor": 2
}
