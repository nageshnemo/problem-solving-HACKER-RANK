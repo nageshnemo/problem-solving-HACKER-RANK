{
 "cells": [
  {
   "cell_type": "code",
   "execution_count": 11,
   "metadata": {},
   "outputs": [
    {
     "name": "stdout",
     "output_type": "stream",
     "text": [
      "-1\n"
     ]
    }
   ],
   "source": [
    "# monica wants to buy a keyboar\n",
    "\n",
    "\n",
    "\n",
    "def getMoneySpent(keyboards, drives, b):\n",
    "    budget = 0\n",
    "    original = b - (keyboards[0] + drives[0])\n",
    "    if original < 0:\n",
    "        return -1\n",
    "    for i in range(len(keyboards)):\n",
    "        sum1 = 0\n",
    "        for j in range(len(drives)):\n",
    "            sum1 = b - ( keyboards[i] + drives[j])\n",
    "            if original >= sum1:\n",
    "                origial = sum1\n",
    "                budget = keyboards[i] + drives[j]\n",
    "                \n",
    "\n",
    "                \n",
    "\n",
    "    if budget > b:\n",
    "        return -1\n",
    "    else:\n",
    "        return budget\n",
    "        \n",
    "        \n",
    "keyboards = [40,50,60]\n",
    "drives = [5,8,12]\n",
    "b =10\n",
    "        \n",
    "result = getMoneySpent(keyboards,drives,b)\n",
    "print(result)"
   ]
  },
  {
   "cell_type": "code",
   "execution_count": null,
   "metadata": {},
   "outputs": [],
   "source": []
  }
 ],
 "metadata": {
  "kernelspec": {
   "display_name": "Python 3",
   "language": "python",
   "name": "python3"
  },
  "language_info": {
   "codemirror_mode": {
    "name": "ipython",
    "version": 3
   },
   "file_extension": ".py",
   "mimetype": "text/x-python",
   "name": "python",
   "nbconvert_exporter": "python",
   "pygments_lexer": "ipython3",
   "version": "3.7.2"
  }
 },
 "nbformat": 4,
 "nbformat_minor": 2
}
