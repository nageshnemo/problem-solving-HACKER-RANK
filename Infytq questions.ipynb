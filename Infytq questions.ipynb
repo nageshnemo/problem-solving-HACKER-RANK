{
 "cells": [
  {
   "cell_type": "code",
   "execution_count": 16,
   "metadata": {},
   "outputs": [
    {
     "name": "stdout",
     "output_type": "stream",
     "text": [
      "llieeyon\n",
      "lieyon\n"
     ]
    }
   ],
   "source": [
    "str1 = \"I like Python\"\n",
    "str2 = \"java is a very popular language\"\n",
    "\n",
    "# output = lieyon\n",
    "str3 = \"\"\n",
    "\n",
    "for i in range(len(str1)):\n",
    "    for j in range(len(str2)):\n",
    "        if str1[i] == \" \":\n",
    "            continue\n",
    "        if str1[i] == str2[j]:\n",
    "            str3 = str3 + str1[i]\n",
    "            \n",
    "            \n",
    "print(str3)\n",
    "\"\".join(set(str3))\n",
    "            \n",
    "# removing duplicate elements from the string    \n",
    "result = []\n",
    "for c in str3:\n",
    "    if c not in result:\n",
    "        result.append(c)\n",
    "result = ''.join(result)\n",
    "\n",
    "print(result)"
   ]
  },
  {
   "cell_type": "code",
   "execution_count": 21,
   "metadata": {},
   "outputs": [],
   "source": [
    "# checking frequency of elements in string \n",
    "\n",
    "str1 = \"sahjdfhgsnsgkhfjgjfhgfdlsgfk\"\n",
    "\n",
    "\n",
    "dict1 = {}\n",
    "\n",
    "for i in str1:\n",
    "    if i in dict1:\n",
    "        dict1[i]+=1\n",
    "        \n",
    "    else:\n",
    "        dict1[i] = 1"
   ]
  },
  {
   "cell_type": "code",
   "execution_count": 20,
   "metadata": {},
   "outputs": [
    {
     "name": "stdout",
     "output_type": "stream",
     "text": [
      "{'s': 4, 'a': 1, 'h': 4, 'j': 3, 'd': 2, 'f': 5, 'g': 5, 'n': 1, 'k': 2, 'l': 1}\n"
     ]
    }
   ],
   "source": [
    "print(dict1)"
   ]
  },
  {
   "cell_type": "code",
   "execution_count": null,
   "metadata": {},
   "outputs": [],
   "source": []
  }
 ],
 "metadata": {
  "kernelspec": {
   "display_name": "Python 3",
   "language": "python",
   "name": "python3"
  },
  "language_info": {
   "codemirror_mode": {
    "name": "ipython",
    "version": 3
   },
   "file_extension": ".py",
   "mimetype": "text/x-python",
   "name": "python",
   "nbconvert_exporter": "python",
   "pygments_lexer": "ipython3",
   "version": "3.7.2"
  }
 },
 "nbformat": 4,
 "nbformat_minor": 2
}
