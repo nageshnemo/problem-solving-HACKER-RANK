{
 "cells": [
  {
   "cell_type": "code",
   "execution_count": 1,
   "metadata": {},
   "outputs": [],
   "source": [
    "# in this particular page i can solve all those question which is given by lavish jain in 1 day\n"
   ]
  },
  {
   "cell_type": "code",
   "execution_count": 15,
   "metadata": {},
   "outputs": [
    {
     "name": "stdout",
     "output_type": "stream",
     "text": [
      "4\n",
      "5.0\n",
      "5\n"
     ]
    }
   ],
   "source": [
    "# sqrt \n",
    "\n",
    "num = 16\n",
    "\n",
    "print (int(num ** (1/2)))\n",
    "\n",
    "\n",
    "print(10/2) # actual division but in python 2 this is actual division\n",
    "\n",
    "print(11//2) # integer division\n",
    "\n",
    "\n"
   ]
  },
  {
   "cell_type": "code",
   "execution_count": 27,
   "metadata": {},
   "outputs": [
    {
     "name": "stdout",
     "output_type": "stream",
     "text": [
      "square root of num is  5\n"
     ]
    }
   ],
   "source": [
    "\n",
    "# without using sqrt function\n",
    "\n",
    "num = 25\n",
    "count = 0\n",
    "sum1 = 0\n",
    "for i in range(1,num+1,2):\n",
    "    sum1 = sum1 + i\n",
    "    count +=1\n",
    "    if sum1 == num:\n",
    "        print(\"square root of num is \",count)\n",
    "        break\n",
    "\n",
    "    "
   ]
  },
  {
   "cell_type": "code",
   "execution_count": 28,
   "metadata": {},
   "outputs": [
    {
     "name": "stdout",
     "output_type": "stream",
     "text": [
      "The area of the triangle is 14.70\n"
     ]
    }
   ],
   "source": [
    "# area of triangle \n",
    "\n",
    "\n",
    "# Python Program to find the area of triangle\n",
    "\n",
    "a = 5\n",
    "b = 6\n",
    "c = 7\n",
    "\n",
    "# Uncomment below to take inputs from the user\n",
    "# a = float(input('Enter first side: '))\n",
    "# b = float(input('Enter second side: '))\n",
    "# c = float(input('Enter third side: '))\n",
    "\n",
    "# calculate the semi-perimeter\n",
    "s = (a + b + c) / 2\n",
    "\n",
    "# calculate the area\n",
    "area = (s*(s-a)*(s-b)*(s-c)) ** 0.5\n",
    "print('The area of the triangle is %0.2f' %area)"
   ]
  },
  {
   "cell_type": "code",
   "execution_count": 31,
   "metadata": {},
   "outputs": [
    {
     "name": "stdout",
     "output_type": "stream",
     "text": [
      "4.0\n",
      "12\n",
      "13\n"
     ]
    }
   ],
   "source": [
    "import math\n",
    "print(math.sqrt(16))\n",
    "print(math.floor(12.5))\n",
    "print(math.ceil(12.5))"
   ]
  },
  {
   "cell_type": "code",
   "execution_count": 34,
   "metadata": {},
   "outputs": [
    {
     "name": "stdout",
     "output_type": "stream",
     "text": [
      "52\n",
      "52\n",
      "51\n"
     ]
    }
   ],
   "source": [
    "print(round(51.667))  \n",
    "print(round(51.5))   \n",
    "print(round(51.4)) "
   ]
  },
  {
   "cell_type": "code",
   "execution_count": 37,
   "metadata": {},
   "outputs": [
    {
     "name": "stdout",
     "output_type": "stream",
     "text": [
      "float\n",
      "4\n"
     ]
    }
   ],
   "source": [
    "# checking that inputed no is integer or not\n",
    "\n",
    "x = 4.5\n",
    "\n",
    "y = int(x)\n",
    "\n",
    "if x==y:\n",
    "    print(\"integer\")\n",
    "else:\n",
    "    print(\"float\")\n",
    "    \n",
    "print(y)"
   ]
  },
  {
   "cell_type": "code",
   "execution_count": 38,
   "metadata": {},
   "outputs": [
    {
     "name": "stdout",
     "output_type": "stream",
     "text": [
      "13.0\n"
     ]
    }
   ],
   "source": [
    "km = 10\n",
    "\n",
    "print(km * 1.3 )"
   ]
  },
  {
   "cell_type": "code",
   "execution_count": 42,
   "metadata": {},
   "outputs": [
    {
     "name": "stdout",
     "output_type": "stream",
     "text": [
      "NOt prime\n"
     ]
    }
   ],
   "source": [
    "# checking prime no \n",
    "\n",
    "\n",
    "num = 10\n",
    "\n",
    "count = 0\n",
    "for i in range(1,num+1,1):\n",
    "    if num % i ==0:\n",
    "        count+=1\n",
    "        \n",
    "        \n",
    "if count == 2:\n",
    "    print(\"prime\")\n",
    "else:\n",
    "    print(\"NOt prime\")"
   ]
  },
  {
   "cell_type": "code",
   "execution_count": 46,
   "metadata": {},
   "outputs": [
    {
     "name": "stdout",
     "output_type": "stream",
     "text": [
      "prime no between two nos ramge is\n",
      "2,3,5,7,11,13,17,19,23,29,31,37,41,43,47,53,59,61,67,71,73,79,83,89,97,"
     ]
    }
   ],
   "source": [
    "# printing all prime no between interval\n",
    "\n",
    "\n",
    "first = 1\n",
    "second = 100\n",
    "\n",
    "\n",
    "print(\"prime no between two nos ramge is\")\n",
    "\n",
    "for i in range(first,second+1,1):\n",
    "    count = 0\n",
    "    for j in range(1,i+1,1):\n",
    "        if i % j ==0:\n",
    "            count+=1\n",
    "            \n",
    "            \n",
    "    if count == 2:\n",
    "        print(i,end=\",\")\n",
    "    \n",
    "        \n",
    "\n",
    "\n",
    "\n",
    "\n",
    "\n",
    "# 2, 3, 5, 7, 11, 13, 17, 19, 23, 29, 31, 37, 41, 43, 47, 53, 59, 61, 67, 71, 73, 79, 83, 89, and 97."
   ]
  },
  {
   "cell_type": "code",
   "execution_count": 27,
   "metadata": {},
   "outputs": [
    {
     "name": "stdout",
     "output_type": "stream",
     "text": [
      "a 2\n",
      "b 2\n",
      "c 2\n"
     ]
    }
   ],
   "source": [
    "# string transformation\n",
    "\n",
    "str1 = \"aabbccdd \"\n",
    "count = 1\n",
    "for i in range(len(str1)-1):\n",
    "    if str1[i] == str1[i+1]:\n",
    "        count+=1\n",
    "    else:\n",
    "        print(str1[i],count)\n",
    "        count = 1"
   ]
  },
  {
   "cell_type": "code",
   "execution_count": 28,
   "metadata": {},
   "outputs": [
    {
     "name": "stdout",
     "output_type": "stream",
     "text": [
      "a\n",
      "a\n",
      "a\n",
      "3\n"
     ]
    }
   ],
   "source": [
    "str2 = \"aaabbbccc\"\n",
    "for i in range(len(str2)):\n",
    "    print(str2[i])\n",
    "    \n",
    "print(str2.count(\"a\"))"
   ]
  },
  {
   "cell_type": "code",
   "execution_count": 30,
   "metadata": {},
   "outputs": [
    {
     "name": "stdout",
     "output_type": "stream",
     "text": [
      "Enter a number: 153\n",
      "153 is an Armstrong number\n"
     ]
    }
   ],
   "source": [
    "# armstrong no \n",
    "num = int(input(\"Enter a number: \"))\n",
    "# initialize sum\n",
    "sum = 0\n",
    "# find the sum of the cube of each digit\n",
    "temp = num\n",
    "while temp > 0:\n",
    "   digit = temp % 10\n",
    "   sum += digit ** 3\n",
    "   temp //= 10\n",
    "# display the result\n",
    "if num == sum:\n",
    "   print(num,\"is an Armstrong number\")\n",
    "else:\n",
    "   print(num,\"is not an Armstrong number\")"
   ]
  },
  {
   "cell_type": "code",
   "execution_count": 31,
   "metadata": {},
   "outputs": [
    {
     "name": "stdout",
     "output_type": "stream",
     "text": [
      "lcm is  6\n"
     ]
    }
   ],
   "source": [
    "# lcm of two nos \n",
    "a = 3\n",
    "b = 6\n",
    "\n",
    "for i in range(max(a,b),a*b+1):\n",
    "    if i % a ==0  and i % b == 0:\n",
    "        print(\"lcm is \",i)\n",
    "        break"
   ]
  },
  {
   "cell_type": "code",
   "execution_count": 32,
   "metadata": {},
   "outputs": [
    {
     "name": "stdout",
     "output_type": "stream",
     "text": [
      "hcf is  6\n"
     ]
    }
   ],
   "source": [
    "# hcf of two nos\n",
    "\n",
    "a = 6\n",
    "b = 12\n",
    "\n",
    "for j in range(min(a,b),0,-1):\n",
    "    if a % j == 0 and b % j == 0:\n",
    "        print(\"hcf is \",j)\n",
    "        break"
   ]
  },
  {
   "cell_type": "code",
   "execution_count": 41,
   "metadata": {},
   "outputs": [
    {
     "name": "stdout",
     "output_type": "stream",
     "text": [
      "1000011\n",
      "310\n"
     ]
    }
   ],
   "source": [
    "# decimal to binary \n",
    "\n",
    "\n",
    "dec = 67\n",
    "\n",
    "bin1 = 0\n",
    "count = 1\n",
    "while(dec!=0):\n",
    "    rem = dec % 2\n",
    "    \n",
    "    bin1 = bin1 + rem * count\n",
    "    count = count * 10\n",
    "    dec = dec //2\n",
    "    \n",
    "print(bin1)\n",
    "    \n",
    "\n",
    "    \n",
    "# decimal to octal    \n",
    "\n",
    "\n",
    "\n",
    "\n",
    "dec = 200\n",
    "\n",
    "oct1 = 0\n",
    "count = 1\n",
    "while(dec!=0):\n",
    "    rem = dec % 8\n",
    "    \n",
    "    oct1 = oct1 + rem * count\n",
    "    count = count * 10\n",
    "    dec = dec //8\n",
    "    \n",
    "print(oct1)\n"
   ]
  },
  {
   "cell_type": "code",
   "execution_count": 42,
   "metadata": {},
   "outputs": [
    {
     "name": "stdout",
     "output_type": "stream",
     "text": [
      "the decimal value of binary no 1001 is : 8\n",
      "the octal value of binary no 1001 is : 513\n"
     ]
    }
   ],
   "source": [
    "# binary to decimal:\n",
    "\n",
    "\n",
    "binary = 1000\n",
    "\n",
    "dec = 0\n",
    "base = 1\n",
    "\n",
    "\n",
    "while (binary !=0):\n",
    "    rem = binary % 10 \n",
    "    dec = dec + rem * base\n",
    "    base = base * 2\n",
    "    binary = binary //10\n",
    "    \n",
    "print(\"the decimal value of binary no 1001 is :\",dec)\n",
    "\n",
    "\n",
    "\n",
    "\n",
    "\n",
    "\n",
    "# binary to octal \n",
    "\n",
    "\n",
    "\n",
    "\n",
    "binary = 1001\n",
    "oct1 = 0\n",
    "base = 1 \n",
    "while (binary !=0):\n",
    "    rem = binary % 10 \n",
    "    oct1 = oct1 + rem * base\n",
    "    base = base * 8\n",
    "    binary = binary //10\n",
    "    \n",
    "print(\"the octal value of binary no 1001 is :\",oct1)"
   ]
  },
  {
   "cell_type": "code",
   "execution_count": 43,
   "metadata": {},
   "outputs": [],
   "source": [
    "# octal to binary \n",
    "# octal to decimal\n",
    "\n"
   ]
  },
  {
   "cell_type": "code",
   "execution_count": 48,
   "metadata": {},
   "outputs": [
    {
     "name": "stdout",
     "output_type": "stream",
     "text": [
      "hsegan\n",
      "nagesh\n"
     ]
    }
   ],
   "source": [
    "# reversing a string\n",
    "\n",
    "str1 = \"nagesh\"\n",
    "\n",
    "print(str1[::-1])\n",
    "\n",
    "str2 = reversed(str1)\n",
    "print(str1)"
   ]
  },
  {
   "cell_type": "code",
   "execution_count": null,
   "metadata": {},
   "outputs": [],
   "source": []
  }
 ],
 "metadata": {
  "kernelspec": {
   "display_name": "Python 3",
   "language": "python",
   "name": "python3"
  },
  "language_info": {
   "codemirror_mode": {
    "name": "ipython",
    "version": 3
   },
   "file_extension": ".py",
   "mimetype": "text/x-python",
   "name": "python",
   "nbconvert_exporter": "python",
   "pygments_lexer": "ipython3",
   "version": "3.7.2"
  }
 },
 "nbformat": 4,
 "nbformat_minor": 2
}
