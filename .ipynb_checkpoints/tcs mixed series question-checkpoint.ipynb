{
 "cells": [
  {
   "cell_type": "code",
   "execution_count": 37,
   "metadata": {},
   "outputs": [
    {
     "name": "stdout",
     "output_type": "stream",
     "text": [
      "[4, 9, 7, 12, 10]\n",
      "10\n"
     ]
    }
   ],
   "source": [
    "n1 = 4\n",
    "n2 = 5\n",
    "list1 = [4]\n",
    "j = 0 \n",
    "k = 1\n",
    "\n",
    "for i in range(0,n1//2,1):\n",
    "    list1.append(list1[j] +5) \n",
    "    list1.append(list1[k] -2)\n",
    "    j=j+2\n",
    "    k=k+2\n",
    "\n",
    "print(list1)\n",
    "\n",
    "print(list1[n2-1])"
   ]
  },
  {
   "cell_type": "code",
   "execution_count": null,
   "metadata": {},
   "outputs": [],
   "source": []
  },
  {
   "cell_type": "code",
   "execution_count": 20,
   "metadata": {},
   "outputs": [
    {
     "name": "stdout",
     "output_type": "stream",
     "text": [
      "2\n"
     ]
    }
   ],
   "source": [
    "print (5//2)"
   ]
  },
  {
   "cell_type": "code",
   "execution_count": 22,
   "metadata": {},
   "outputs": [
    {
     "name": "stdout",
     "output_type": "stream",
     "text": [
      "0\n",
      "1\n",
      "2\n",
      "3\n"
     ]
    }
   ],
   "source": [
    "for i in range(4):\n",
    "    print(i)"
   ]
  },
  {
   "cell_type": "code",
   "execution_count": 39,
   "metadata": {},
   "outputs": [
    {
     "name": "stdout",
     "output_type": "stream",
     "text": [
      "10\n"
     ]
    }
   ],
   "source": [
    "a = 4\n",
    "N = 5\n",
    "\n",
    "term = a\n",
    "\n",
    "for i in range(2,N+1):\n",
    "    if i % 2 == 0:\n",
    "        term = term +5\n",
    "        \n",
    "    else:\n",
    "        term = term -2 \n",
    "        \n",
    "print(term)"
   ]
  },
  {
   "cell_type": "code",
   "execution_count": 46,
   "metadata": {},
   "outputs": [
    {
     "name": "stdout",
     "output_type": "stream",
     "text": [
      "[1, 2, 1, 3, 2, 5, 3, 7, 5, 11, 8]\n"
     ]
    }
   ],
   "source": [
    "# question of prime and fibbonacci\n",
    "# 1,2,1,3,2,5,3,7,5,11,8\n",
    "\n",
    "N = 11\n",
    "prifib = [1,2,1]\n",
    "j = 3\n",
    "for i in range(4,N+1):\n",
    "    if i % 2 == 0:\n",
    "        while(j!=0):\n",
    "            count = 0\n",
    "            for i in range(1,j+1,1):\n",
    "                if j % i == 0:\n",
    "                    count+=1\n",
    "                    \n",
    "            if count ==2:\n",
    "                    prifib.append(j)\n",
    "                    j+=1\n",
    "                    break\n",
    "            else:\n",
    "                j+=1\n",
    "        \n",
    "    else:\n",
    "        prifib.append(prifib[i-3]+prifib[i-5])\n",
    "        \n",
    "print(prifib)"
   ]
  },
  {
   "cell_type": "code",
   "execution_count": null,
   "metadata": {},
   "outputs": [],
   "source": []
  }
 ],
 "metadata": {
  "kernelspec": {
   "display_name": "Python 3",
   "language": "python",
   "name": "python3"
  },
  "language_info": {
   "codemirror_mode": {
    "name": "ipython",
    "version": 3
   },
   "file_extension": ".py",
   "mimetype": "text/x-python",
   "name": "python",
   "nbconvert_exporter": "python",
   "pygments_lexer": "ipython3",
   "version": "3.7.2"
  }
 },
 "nbformat": 4,
 "nbformat_minor": 2
}
